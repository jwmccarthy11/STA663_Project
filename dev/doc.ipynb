{
 "cells": [
  {
   "cell_type": "markdown",
   "metadata": {},
   "source": [
    "# Clustering Data with Affinity Propagation"
   ]
  },
  {
   "cell_type": "markdown",
   "metadata": {},
   "source": [
    "##### Authors: \n",
    "\n",
    "Michael Sarkis, Jack McCarthy\n",
    "\n",
    "##### Github: \n",
    "\n",
    "https://github.com/jwmccarthy11/STA663_Project\n",
    "\n",
    "##### Contributions:\n",
    "\n",
    "Michael: \n",
    "    - Main affinity propagation method\n",
    "- Report write-up\n",
    "- Cluster plotting method\n",
    "\n",
    "Jack:\n",
    "- Optimized message functions\n",
    "- Package source + build\n",
    "- Basketball data example"
   ]
  },
  {
   "cell_type": "markdown",
   "metadata": {},
   "source": [
    "## Abstract\n",
    "\n",
    "Clustering data by identifying representative data points, or \"Exemplars\", is useful for detecting patterns and connections within the data. Standard methods for clustering generally rely on random selection followed by iterative updates, which only function if the initial selection is close to a good solution. To overcome these deficits, \"Affinity Propogation\" takes as an input the similarities between all pairs of points. Two types of messages are then sent between points that update the information about clusters and exemplars. \"Responsibility\" messages convey how suitable a point is to be another point's exemplar. \"Availability\" messages convery how well suited a point is to join an exemplars cluster."
   ]
  },
  {
   "cell_type": "markdown",
   "metadata": {},
   "source": [
    "## Background\n",
    "\n",
    "For this project we are using the 2007 paper by Frey and Dueck called \"<i>Clustering by Passing Messages Between Data Points</i>\". This paper presents a novel clustering algorithm. It addresses the problem of efficiencey in clustering algorithms, especially amongst sparse data sets. The paper showed that a single run of affinity propogation has a lower error than even the best of many randomly initialized K-means runs, which saves on computation. \n",
    "\n",
    "Affinity propagation can be applied to a wide range of problems including detecting matching faces from different images, identifying representative sentences from manuscripts and idenfitying cities to serve as airline hubs. This method is also useful for very sparse data such as gene analysis and clustering.\n",
    "\n",
    "The primary advantage of affinity propagation is its use on sparse similarity matrices. If we have reason <i>a priori</i> that certain sets of data points need not be related to others, we may ignore the processing of these pairs altogether to save on computational cost. Unfortunately, our implementation does not yet account for sparse similarity, but asymmetric similarity matrices are still valid. Another advantage is that cluster centroids, called \"exemplars\", are actual points in the dataset. This is more appropriate for classification tasks, such as matching faces.\n",
    "\n",
    "Disadvantages of the affinity propagation algorithm are its speed of execution and, for some datasets, a worse mean-distance-to-centroid value than other common clustering methods. It is also unable to take a fixed number of clusters as input, though the the number of exemplars identified can be adjusted via the preference values supplied with the similarity matrix. This may be a positive in some cases where the number of clusters is unclear prior to execution.\n",
    "\n",
    "In the future, we feel affinity propagation will be a useful tool in unsupervised learning tasks. This includes a wide range of applications from facial recognition to anomaly detection, so research involving these particular areas would benefit from investigation via AP."
   ]
  },
  {
   "cell_type": "markdown",
   "metadata": {},
   "source": [
    "## Description of Algorithm\n",
    "\n",
    "The affinity propogation algorithm begins by taking an (n x n) matrix of pairwise similarities for all of the points in the data set. The diagonal of this matrix (the \"similarity\" between a point and itself) is instead taken to be the preference that the specific point is an exemplar. This diagonal is considered to be the points preferences. To begin the responsibility and availability matrices are set to n by n matrices containing only 0's. From here the algorithm iteratively performs the following steps: Updating responsibility, updating availability and updating the chosen exemplars.\n",
    "\n",
    "The responsibility matrix at point (i,k) is updated to be the the similarity of points $i$ and $k$ minus the maxmimum of similarity plus availability that i has with any other point. To get the complete updated responsibility matrix damping is applied, such that the new responsibility matrix is equal to the old matrix times a weight plus the updated values times 1 minus that weight. The availability matrix at point (i,k), when i $\\neq$ k is updated to be the the minimum of 0 and the self-responsibility of k plus the sum of all positive responsibilities that k has with other points. The availability matrix at point (k,k) is updated to be the sum of all positive responsibility that k has with other points. Again, to get the complete updated availability matrix damping is applied, such that the new availaibility matrix is equal to the old matrix times a weight plus the updated values times 1 minus that weight. The exemplars are then updated by summing the current responsibility and availability matrices and  for each row i the column k that has the greatest value represents the exemplar for i. If k = i then i iteself is deemed an exemplar.\n",
    "\n",
    "This process continues until one of three stopping conditions is reached. The algorithm then returns the indices of the points selected as exemplars, the number of exemplars, the exemplar which each point has clustered with and optionally the iterations taken to reach these results.\n",
    "\n",
    "To further explain affinity propagation we will break down each aspect of the algorithm:\n",
    "\n",
    "#### Similarity Matrix\n",
    "- The input s, an n by n matrix, where $s(i, k)$ is the similarity for points $i$ and $k$\n",
    "    - i.e. $s(i, k) = -\\Vert x_i - x_k \\Vert^2$\n",
    "       \n",
    "- The diagonal of s, points $s(k, k)$, is the \"preferences\" vector\n",
    "    - The larger $s(k, k)$ is more likely to be chosen as exemplar\n",
    "    - Under equal prior preference for all points, the scale of shared value determines the number of clusters\n",
    "\n",
    "\n",
    "#### Responsibility \n",
    "- The n by n responsibility matrix r, where $r(i, k)$ is a message sent from $i$ to $k$\n",
    "     - This value represents the accumulated evidence for how well-suited point $k$ is to serve as the exemplar for point $i$\n",
    "     - Takes into account all other potential exemplars for $i$\n",
    "     - Initialized to a matrix of 0's\n",
    "        \n",
    "#### Availability \n",
    "- The n by n responsibility matrix a, where $a(i, k)$ is a message sent from $k$ to $i$\n",
    "    - This value represents the accumulated evidence for how appropriate it would be for point $i$ to choose point $k$ as its exemplar.\n",
    "    - Takes into account the support from other points that point $k$ should be an exemplar\n",
    "    - Initialized to a matrix of 0's\n",
    "        \n",
    "### Algorithm Steps\n",
    "\n",
    "1. Update responsibility:\n",
    "\n",
    "$$r_{new}(i, k) \\leftarrow s(i, k) - \\underset{k' \\text{s.t.} k' \\neq k}{\\max} \\left\\{ a(i, k') + s(i, k') \\right\\}$$\n",
    "\n",
    "$$r_{updated} = \\lambda * r_{old}+ (1-\\lambda) *r_{new} $$\n",
    "$$\\lambda \\in [0, 1]$$\n",
    "\n",
    "    \n",
    "2. Update availability for $i \\neq k$:\n",
    "$$a_{new}(i, k) \\leftarrow \\min \\left\\{ 0, r(k, k) + \\hspace{-15px} \\sum\\limits_{i' \\text{s.t.} i' \\not\\in \\{i, k\\}} \\hspace{-10px} \\max \\{0, r(i', k)\\} \\right\\}$$\n",
    "    \n",
    "3. Update self-availability:\n",
    "    $$a_{new}(k, k) \\leftarrow \\hspace{-15px} \\sum\\limits_{i' \\text{s.t.} i' \\neq k} \\hspace{-10px} \\max \\{0, r(i', k)\\}$$\n",
    "    $$a_{updated} = \\lambda * a_{old}+ (1-\\lambda) *a_{new} $$\n",
    "$$\\lambda \\in [0, 1]$$\n",
    "    \n",
    "4. Assign exemplars:\n",
    "      - For point $i$, the value of $k$ that maximizes $a(i, k) + r(i, k)$ \n",
    "           - If $i=k$ then this identifies $i$ as an exemplar\n",
    "           - If $i \\neq k$ then this identifies $k$ as the exemplar for point $i$\n",
    "        \n",
    "#### Stopping Conditions    \n",
    "- The algorithm may terminate after any of the following conditions are met\n",
    "    - A fixed iteration limit is reached\n",
    "    - Changes in messages fall below a specified threshold \n",
    "    - Local decisions stay constant for a chosen number of iterations"
   ]
  },
  {
   "cell_type": "markdown",
   "metadata": {},
   "source": [
    "## Optimizations Applied\n",
    "\n",
    "Our affinity propogation algorithm is 3 seperate functions. One that updates responsibility, one that updates availability, and one function that runs the full algorithm and calls availability and responsiblity updates. Due to this set up our optimization focused almost entirely on the two update functions as the overall function needed to run through its loop sequentially and thus any there were few if any meaningful optimizations that could be applied to the main function.\n",
    "\n",
    "To begin the first step in our optimization was to create simulated data as shown below."
   ]
  },
  {
   "cell_type": "code",
   "execution_count": 1,
   "metadata": {
    "pycharm": {
     "is_executing": true
    },
    "scrolled": true
   },
   "outputs": [],
   "source": [
    "import numpy as np\n",
    "import matplotlib.pyplot as plt\n",
    "from scipy.spatial import distance_matrix\n",
    "from numba import njit, prange\n",
    "import pandas as pd"
   ]
  },
  {
   "cell_type": "code",
   "execution_count": 2,
   "metadata": {},
   "outputs": [],
   "source": [
    "np.random.seed(1234)\n",
    "\n",
    "size = 100\n",
    "\n",
    "# cluster 1\n",
    "c1 = np.random.multivariate_normal(\n",
    "    mean=np.array([0, -0.5]),\n",
    "    cov=np.array([\n",
    "        [0.1, 0],\n",
    "        [0, 0.1]\n",
    "    ]),\n",
    "    size=size\n",
    ")\n",
    "# cluster 2\n",
    "c2 = np.random.multivariate_normal(\n",
    "    mean=np.array([1, -3]),\n",
    "    cov=np.array([\n",
    "        [0.1, 0],\n",
    "        [0, 0.1]\n",
    "    ]),\n",
    "    size=size\n",
    ")\n",
    "\n",
    "# cluster 3\n",
    "c3 = np.random.multivariate_normal(\n",
    "    mean=np.array([2, 1]),\n",
    "    cov=np.array([\n",
    "        [0.1, 0],\n",
    "        [0, 0.1]\n",
    "    ]),\n",
    "    size=size\n",
    ")\n",
    "\n",
    "# combined data\n",
    "c = np.r_[c1, c2, c3]\n",
    "\n",
    "# sample size\n",
    "n = len(c)"
   ]
  },
  {
   "cell_type": "code",
   "execution_count": 248,
   "metadata": {},
   "outputs": [
    {
     "data": {
      "image/png": "[encoded data removed]",
      "text/plain": [
       "<Figure size 432x288 with 1 Axes>"
      ]
     },
     "metadata": {
      "needs_background": "light"
     },
     "output_type": "display_data"
    }
   ],
   "source": [
    "# separate clusters\n",
    "plt.scatter(*c1.T)\n",
    "plt.scatter(*c2.T)\n",
    "plt.scatter(*c3.T)\n",
    "plt.show()"
   ]
  },
  {
   "cell_type": "code",
   "execution_count": 4,
   "metadata": {},
   "outputs": [],
   "source": [
    "# preference and similarity to be used by all functions\n",
    "p = -10. * np.ones(n)\n",
    "s = -distance_matrix(c, c) + np.diag(p)\n",
    "a = np.zeros((n, n))\n",
    "r = np.zeros_like(a)"
   ]
  },
  {
   "cell_type": "markdown",
   "metadata": {},
   "source": [
    "The initialized values of the matrices above do not matter, as the functions below compute the update the same regardless of the value encountered."
   ]
  },
  {
   "cell_type": "markdown",
   "metadata": {},
   "source": [
    "### Naive Implementation\n",
    "Our first iteration of the functions was to naively code them in python with standard loops for updates."
   ]
  },
  {
   "cell_type": "code",
   "execution_count": 5,
   "metadata": {},
   "outputs": [],
   "source": [
    "def update_responsibility_naive(r, s, a, lmb=0.5):\n",
    "    \"\"\"\n",
    "    Naive responsibility matrix computation.\n",
    "    \"\"\"\n",
    "    n = len(s)\n",
    "    for i in range(n):\n",
    "        for k in range(n):\n",
    "            max_sum = np.max(np.delete(a[i, :] + s[i, :], k))\n",
    "            r[i, k] = lmb * r[i, k] + (1 - lmb) * (s[i, k] - max_sum)\n",
    "    return r"
   ]
  },
  {
   "cell_type": "code",
   "execution_count": 6,
   "metadata": {},
   "outputs": [
    {
     "name": "stdout",
     "output_type": "stream",
     "text": [
      "831 ms ± 10.3 ms per loop (mean ± std. dev. of 3 runs, 5 loops each)\n"
     ]
    }
   ],
   "source": [
    "%timeit -r3 -n5 update_responsibility_naive(r, s, a)"
   ]
  },
  {
   "cell_type": "code",
   "execution_count": 7,
   "metadata": {},
   "outputs": [],
   "source": [
    "def update_availability_naive(r, a, lmb=0.5):\n",
    "    \"\"\"\n",
    "    Naive availability matrix computation.\n",
    "    \"\"\"\n",
    "    n = len(s)\n",
    "    for i in range(n):\n",
    "        for k in range(n):\n",
    "            if(i == k):\n",
    "                a_ik = np.sum(np.maximum(0,np.delete(r[:, k], k)))\n",
    "            else:\n",
    "                a_ik = np.minimum(0,r[k,k]+ np.sum(np.maximum(0,np.delete(r[:, k], (i,k)))))\n",
    "            a[i, k] = lmb * a[i, k] + (1 - lmb) * (a_ik)\n",
    "    return a"
   ]
  },
  {
   "cell_type": "code",
   "execution_count": 8,
   "metadata": {},
   "outputs": [
    {
     "name": "stdout",
     "output_type": "stream",
     "text": [
      "1.57 s ± 9.74 ms per loop (mean ± std. dev. of 3 runs, 5 loops each)\n"
     ]
    }
   ],
   "source": [
    "%timeit -r3 -n5 update_availability_naive(r, a)"
   ]
  },
  {
   "cell_type": "markdown",
   "metadata": {},
   "source": [
    "### Numba Parallelization\n",
    "We optimized from here by then using numba to paralellize the loops, which created a rather large speed up."
   ]
  },
  {
   "cell_type": "code",
   "execution_count": 9,
   "metadata": {},
   "outputs": [],
   "source": [
    "@njit(parallel=True)\n",
    "def update_responsibility_numba(r, s, a, lmb=0.5):\n",
    "    \"\"\"Numba responsibility matrix computation.\n",
    "    \"\"\"\n",
    "    n = len(s)\n",
    "    for i in prange(n):\n",
    "        for k in prange(n):\n",
    "            max_sum = np.max(np.delete(a[i, :] + s[i, :], k))\n",
    "            r[i, k] = lmb * r[i, k] + (1 - lmb) * (s[i, k] - max_sum)\n",
    "    return r"
   ]
  },
  {
   "cell_type": "code",
   "execution_count": 10,
   "metadata": {},
   "outputs": [
    {
     "name": "stdout",
     "output_type": "stream",
     "text": [
      "The slowest run took 22.08 times longer than the fastest. This could mean that an intermediate result is being cached.\n",
      "132 ms ± 163 ms per loop (mean ± std. dev. of 3 runs, 5 loops each)\n"
     ]
    }
   ],
   "source": [
    "%timeit -r3 -n5 update_responsibility_numba(r, s, a) "
   ]
  },
  {
   "cell_type": "code",
   "execution_count": 11,
   "metadata": {},
   "outputs": [],
   "source": [
    "@njit(parallel=True)\n",
    "def update_availability_numba(r, a, lmb=0.5):\n",
    "    \"\"\"\n",
    "    Naive availability matrix computation.\n",
    "    \"\"\"\n",
    "    n = len(r)\n",
    "    for i in prange(n):\n",
    "        for k in prange(n):\n",
    "            if i == k:\n",
    "                a_ik = np.sum(np.maximum(0,np.delete(r[:, k], k)))\n",
    "            elif i < k:\n",
    "                vec= np.delete(r[:, k], k)\n",
    "                sum_vec = np.delete(vec,i)\n",
    "                a_ik = np.minimum(0,r[k,k]+ np.sum(np.maximum(0,sum_vec)))\n",
    "            else:\n",
    "                vec= np.delete(r[:, k], i)\n",
    "                sum_vec = np.delete(vec,k)\n",
    "                a_ik = np.minimum(0,r[k,k]+ np.sum(np.maximum(0,sum_vec)))\n",
    "            a[i, k] = lmb * a[i, k] + (1 - lmb) * (a_ik)\n",
    "    return a"
   ]
  },
  {
   "cell_type": "code",
   "execution_count": 12,
   "metadata": {},
   "outputs": [
    {
     "name": "stdout",
     "output_type": "stream",
     "text": [
      "The slowest run took 17.42 times longer than the fastest. This could mean that an intermediate result is being cached.\n",
      "208 ms ± 248 ms per loop (mean ± std. dev. of 3 runs, 5 loops each)\n"
     ]
    }
   ],
   "source": [
    "%timeit -r3 -n5 update_availability_numba(r, a) "
   ]
  },
  {
   "cell_type": "markdown",
   "metadata": {},
   "source": [
    "### Numpy and Vectors\n",
    "To increase efficiency we removed the loops used and calculated updates through a series of numpy functions and vector operations."
   ]
  },
  {
   "cell_type": "code",
   "execution_count": 13,
   "metadata": {},
   "outputs": [],
   "source": [
    "def update_responsibility_numpy(r, s, a, lmb=0.5):\n",
    "    \"\"\"\n",
    "    Numpy optimized responsibility matrix computation.\n",
    "    \"\"\"\n",
    "    n = len(s)\n",
    "    i = np.arange(n)\n",
    "    temp = np.add(a, s)\n",
    "    \n",
    "    # indices of two largest row vals\n",
    "    idx = np.argpartition(temp, -2)[:, [-1, -2]]\n",
    "    idx_1 = idx[:, 0]\n",
    "    idx_2 = idx[:, 1]\n",
    "    \n",
    "    # two largest row vals\n",
    "    max_1 = temp[i, idx_1]\n",
    "    max_2 = temp[i, idx_2]\n",
    "    \n",
    "    # compute responsibility\n",
    "    np.subtract(s, max_1[:, None], temp)\n",
    "    temp[i, idx_1] = s[i, idx_1] - max_2\n",
    "    \n",
    "    return r * lmb + (1-lmb) * temp"
   ]
  },
  {
   "cell_type": "code",
   "execution_count": 14,
   "metadata": {},
   "outputs": [
    {
     "name": "stdout",
     "output_type": "stream",
     "text": [
      "1.58 ms ± 29.2 µs per loop (mean ± std. dev. of 3 runs, 5 loops each)\n"
     ]
    }
   ],
   "source": [
    "%timeit -r3 -n5 update_responsibility_numpy(r, s, a)"
   ]
  },
  {
   "cell_type": "code",
   "execution_count": 15,
   "metadata": {},
   "outputs": [],
   "source": [
    "def update_availability_numpy(r, a, lmb=0.5):\n",
    "    \"\"\"Numpy optimized availability matrix computation.\n",
    "    \"\"\"\n",
    "    n = len(r)\n",
    "    temp = np.zeros((n, n))\n",
    "    max_r = np.maximum(r, 0)\n",
    "    \n",
    "    # set diag to r's diag to account for r(k, k) in sum\n",
    "    np.fill_diagonal(max_r, np.diag(r))\n",
    "    \n",
    "    # removes i'=i from col sum\n",
    "    max_r = np.subtract(np.sum(max_r, axis=0), max_r)\n",
    "    temp = np.minimum(max_r, 0)\n",
    "    \n",
    "    # fill diag w/ self-availability\n",
    "    np.fill_diagonal(temp, np.diag(max_r))\n",
    "    \n",
    "    return a * lmb + (1-lmb) * temp"
   ]
  },
  {
   "cell_type": "code",
   "execution_count": 16,
   "metadata": {
    "scrolled": true
   },
   "outputs": [
    {
     "name": "stdout",
     "output_type": "stream",
     "text": [
      "1.8 ms ± 244 µs per loop (mean ± std. dev. of 3 runs, 5 loops each)\n"
     ]
    }
   ],
   "source": [
    "%timeit -r3 -n5 update_availability_numpy(r, a) "
   ]
  },
  {
   "cell_type": "markdown",
   "metadata": {},
   "source": [
    "### Cython\n",
    "Finally our best optimizations involved converting the method to a cython based code. We import these functions from the package we constructed. It is worth noting that the higher the sample size, the less difference there is in the execution time between the Cython implementation and the numpy implementation."
   ]
  },
  {
   "cell_type": "code",
   "execution_count": 17,
   "metadata": {},
   "outputs": [],
   "source": [
    "from aff_prop.aff_prop import resp_dense, aval_dense"
   ]
  },
  {
   "cell_type": "code",
   "execution_count": 18,
   "metadata": {
    "scrolled": true
   },
   "outputs": [
    {
     "name": "stdout",
     "output_type": "stream",
     "text": [
      "The slowest run took 5.75 times longer than the fastest. This could mean that an intermediate result is being cached.\n",
      "513 µs ± 386 µs per loop (mean ± std. dev. of 3 runs, 5 loops each)\n"
     ]
    }
   ],
   "source": [
    "%timeit -r3 -n5 resp_dense(r, s, a)"
   ]
  },
  {
   "cell_type": "code",
   "execution_count": 19,
   "metadata": {},
   "outputs": [
    {
     "name": "stdout",
     "output_type": "stream",
     "text": [
      "276 µs ± 65 µs per loop (mean ± std. dev. of 3 runs, 5 loops each)\n"
     ]
    }
   ],
   "source": [
    "%timeit -r3 -n5 aval_dense(r, a)"
   ]
  },
  {
   "cell_type": "markdown",
   "metadata": {},
   "source": [
    "### Optimization Summary\n",
    "Below is the summary of all iterations of our optimization process and the time each took to execute. It shows a substantial speed up with each optimiziation we implemented."
   ]
  },
  {
   "cell_type": "markdown",
   "metadata": {},
   "source": [
    "#### Responsibility Timing"
   ]
  },
  {
   "cell_type": "code",
   "execution_count": 20,
   "metadata": {},
   "outputs": [
    {
     "name": "stdout",
     "output_type": "stream",
     "text": [
      "833 ms ± 1.04 ms per loop (mean ± std. dev. of 3 runs, 5 loops each)\n",
      "17.4 ms ± 620 µs per loop (mean ± std. dev. of 3 runs, 5 loops each)\n",
      "817 µs ± 164 µs per loop (mean ± std. dev. of 3 runs, 5 loops each)\n",
      "261 µs ± 18.6 µs per loop (mean ± std. dev. of 3 runs, 5 loops each)\n"
     ]
    }
   ],
   "source": [
    "a = np.zeros((n, n))\n",
    "r = np.zeros_like(a)\n",
    "\n",
    "#naive implementation\n",
    "naive_r = %timeit -o -r3 -n5 update_responsibility_naive(r, s, a)\n",
    "\n",
    "\n",
    "#numba implementation\n",
    "numba_r = %timeit -o -r3 -n5 update_responsibility_numba(r, s, a)\n",
    "\n",
    "\n",
    "#numpy implementation\n",
    "numpy_r = %timeit -o -r3 -n5 update_responsibility_numpy(r, s, a)\n",
    "\n",
    "\n",
    "#cython implementation\n",
    "cython_r = %timeit -o -r3 -n5 resp_dense(r, s, a)"
   ]
  },
  {
   "cell_type": "code",
   "execution_count": 21,
   "metadata": {},
   "outputs": [
    {
     "data": {
      "text/html": [
       "<div>\n",
       "<style scoped>\n",
       "    .dataframe tbody tr th:only-of-type {\n",
       "        vertical-align: middle;\n",
       "    }\n",
       "\n",
       "    .dataframe tbody tr th {\n",
       "        vertical-align: top;\n",
       "    }\n",
       "\n",
       "    .dataframe thead th {\n",
       "        text-align: right;\n",
       "    }\n",
       "</style>\n",
       "<table border=\"1\" class=\"dataframe\">\n",
       "  <thead>\n",
       "    <tr style=\"text-align: right;\">\n",
       "      <th></th>\n",
       "      <th>Speedup</th>\n",
       "      <th>Average Runtime (s)</th>\n",
       "    </tr>\n",
       "  </thead>\n",
       "  <tbody>\n",
       "    <tr>\n",
       "      <th>Base Python</th>\n",
       "      <td>1x</td>\n",
       "      <td>0.832862</td>\n",
       "    </tr>\n",
       "    <tr>\n",
       "      <th>Numba</th>\n",
       "      <td>47x</td>\n",
       "      <td>0.017386</td>\n",
       "    </tr>\n",
       "    <tr>\n",
       "      <th>Numpy</th>\n",
       "      <td>1019x</td>\n",
       "      <td>0.000817</td>\n",
       "    </tr>\n",
       "    <tr>\n",
       "      <th>Cython</th>\n",
       "      <td>3193x</td>\n",
       "      <td>0.000261</td>\n",
       "    </tr>\n",
       "  </tbody>\n",
       "</table>\n",
       "</div>"
      ],
      "text/plain": [
       "            Speedup  Average Runtime (s)\n",
       "Base Python      1x             0.832862\n",
       "Numba           47x             0.017386\n",
       "Numpy         1019x             0.000817\n",
       "Cython        3193x             0.000261"
      ]
     },
     "execution_count": 21,
     "metadata": {},
     "output_type": "execute_result"
    }
   ],
   "source": [
    "# get runtimes\n",
    "base = naive_r.average\n",
    "mult_base = base / base\n",
    "mult_nb = base / numba_r.average\n",
    "mult_np = base / numpy_r.average\n",
    "mult_cs = base / cython_r.average\n",
    "\n",
    "# create dataframe\n",
    "col1 = {'Speedup': [mult_base, mult_nb, mult_np, mult_cs],\n",
    "        'Average Runtime (s)': [base, numba_r.average, numpy_r.average, cython_r.average]}\n",
    "multipliers = pd.DataFrame(\n",
    "    col1,index=['Base Python', 'Numba', 'Numpy','Cython']\n",
    ")\n",
    "multipliers.round(4)\n",
    "multipliers.Speedup = multipliers.Speedup.apply(lambda x: str(int(x))+'x')\n",
    "multipliers"
   ]
  },
  {
   "cell_type": "markdown",
   "metadata": {},
   "source": [
    "#### Availability Timing"
   ]
  },
  {
   "cell_type": "code",
   "execution_count": 22,
   "metadata": {},
   "outputs": [
    {
     "name": "stdout",
     "output_type": "stream",
     "text": [
      "1.56 s ± 4.18 ms per loop (mean ± std. dev. of 3 runs, 5 loops each)\n",
      "34.1 ms ± 957 µs per loop (mean ± std. dev. of 3 runs, 5 loops each)\n",
      "2.23 ms ± 140 µs per loop (mean ± std. dev. of 3 runs, 5 loops each)\n",
      "423 µs ± 55.8 µs per loop (mean ± std. dev. of 3 runs, 5 loops each)\n"
     ]
    }
   ],
   "source": [
    "# naive implementation\n",
    "naive_a = %timeit -o -r3 -n5 update_availability_naive(r, a)\n",
    "\n",
    "\n",
    "# numba implementation\n",
    "numba_a = %timeit -o -r3 -n5 update_availability_numba(r, a)\n",
    "\n",
    "\n",
    "# numpy implementation\n",
    "numpy_a = %timeit -o -r3 -n5 update_availability_numpy(r, a)\n",
    "\n",
    "\n",
    "# cython implementation\n",
    "cython_a = %timeit -o -r3 -n5 aval_dense(r, a)"
   ]
  },
  {
   "cell_type": "code",
   "execution_count": 23,
   "metadata": {},
   "outputs": [
    {
     "data": {
      "text/html": [
       "<div>\n",
       "<style scoped>\n",
       "    .dataframe tbody tr th:only-of-type {\n",
       "        vertical-align: middle;\n",
       "    }\n",
       "\n",
       "    .dataframe tbody tr th {\n",
       "        vertical-align: top;\n",
       "    }\n",
       "\n",
       "    .dataframe thead th {\n",
       "        text-align: right;\n",
       "    }\n",
       "</style>\n",
       "<table border=\"1\" class=\"dataframe\">\n",
       "  <thead>\n",
       "    <tr style=\"text-align: right;\">\n",
       "      <th></th>\n",
       "      <th>Speedup</th>\n",
       "      <th>Average Runtime (s)</th>\n",
       "    </tr>\n",
       "  </thead>\n",
       "  <tbody>\n",
       "    <tr>\n",
       "      <th>Base Python</th>\n",
       "      <td>1x</td>\n",
       "      <td>1.559810</td>\n",
       "    </tr>\n",
       "    <tr>\n",
       "      <th>Numba</th>\n",
       "      <td>45x</td>\n",
       "      <td>0.034113</td>\n",
       "    </tr>\n",
       "    <tr>\n",
       "      <th>Numpy</th>\n",
       "      <td>700x</td>\n",
       "      <td>0.002226</td>\n",
       "    </tr>\n",
       "    <tr>\n",
       "      <th>Cython</th>\n",
       "      <td>3688x</td>\n",
       "      <td>0.000423</td>\n",
       "    </tr>\n",
       "  </tbody>\n",
       "</table>\n",
       "</div>"
      ],
      "text/plain": [
       "            Speedup  Average Runtime (s)\n",
       "Base Python      1x             1.559810\n",
       "Numba           45x             0.034113\n",
       "Numpy          700x             0.002226\n",
       "Cython        3688x             0.000423"
      ]
     },
     "execution_count": 23,
     "metadata": {},
     "output_type": "execute_result"
    }
   ],
   "source": [
    "# get runtimes\n",
    "base = naive_a.average\n",
    "mult_base = base / base\n",
    "mult_nb = base / numba_a.average\n",
    "mult_np = base / numpy_a.average\n",
    "mult_cs = base / cython_a.average\n",
    "\n",
    "# create dataframe\n",
    "col1 = {'Speedup': [mult_base, mult_nb, mult_np, mult_cs],\n",
    "        'Average Runtime (s)': [base, numba_a.average, numpy_a.average, cython_a.average]}\n",
    "multipliers = pd.DataFrame(\n",
    "    col1,index=['Base Python', 'Numba', 'Numpy','Cython']\n",
    ")\n",
    "multipliers.round(4)\n",
    "multipliers.Speedup = multipliers.Speedup.apply(lambda x: str(int(x))+'x')\n",
    "multipliers"
   ]
  },
  {
   "cell_type": "markdown",
   "metadata": {},
   "source": [
    "## Simulated Data Examples"
   ]
  },
  {
   "cell_type": "code",
   "execution_count": 24,
   "metadata": {},
   "outputs": [],
   "source": [
    "from aff_prop.aff_prop import affinity_propagation, plot_affinity_clusters"
   ]
  },
  {
   "cell_type": "code",
   "execution_count": 94,
   "metadata": {},
   "outputs": [],
   "source": [
    "np.random.seed(1234)\n",
    "size = 100\n",
    "\n",
    "# cluster 1\n",
    "c1 = np.random.multivariate_normal(\n",
    "    mean=np.array([0, -0.5]),\n",
    "    cov=np.array([\n",
    "        [0.1, 0],\n",
    "        [0, 0.1]\n",
    "    ]),\n",
    "    size=size\n",
    ")\n",
    "# cluster 2\n",
    "c2 = np.random.multivariate_normal(\n",
    "    mean=np.array([1, -2]),\n",
    "    cov=np.array([\n",
    "        [0.1, 0],\n",
    "        [0, 0.1]\n",
    "    ]),\n",
    "    size=size\n",
    ")\n",
    "\n",
    "# cluster 3\n",
    "c3 = np.random.multivariate_normal(\n",
    "    mean=np.array([1.5, 1]),\n",
    "    cov=np.array([\n",
    "        [0.1, 0],\n",
    "        [0, 0.1]\n",
    "    ]),\n",
    "    size=size\n",
    ")\n",
    "\n",
    "# combined data\n",
    "c = np.r_[c1, c2, c3]\n",
    "\n",
    "# sample size\n",
    "n = len(c)"
   ]
  },
  {
   "cell_type": "code",
   "execution_count": 247,
   "metadata": {},
   "outputs": [
    {
     "data": {
      "image/png": "[encoded data removed]",
      "text/plain": [
       "<Figure size 432x288 with 1 Axes>"
      ]
     },
     "metadata": {
      "needs_background": "light"
     },
     "output_type": "display_data"
    }
   ],
   "source": [
    "# separate clusters\n",
    "plt.scatter(*c.T)\n",
    "plt.show()"
   ]
  },
  {
   "cell_type": "code",
   "execution_count": 102,
   "metadata": {},
   "outputs": [],
   "source": [
    "# preference and similarity to be used by all functions\n",
    "p = -12.5 * np.ones(n)\n",
    "s = -distance_matrix(c, c) + np.diag(p)"
   ]
  },
  {
   "cell_type": "code",
   "execution_count": 103,
   "metadata": {},
   "outputs": [],
   "source": [
    "k, exems, labels, _, _ = affinity_propagation(s)"
   ]
  },
  {
   "cell_type": "code",
   "execution_count": 104,
   "metadata": {
    "scrolled": false
   },
   "outputs": [
    {
     "data": {
      "image/png": "[encoded data removed]",
      "text/plain": [
       "<Figure size 432x288 with 1 Axes>"
      ]
     },
     "metadata": {
      "needs_background": "light"
     },
     "output_type": "display_data"
    }
   ],
   "source": [
    "plot_affinity_clusters(c,exems,labels)"
   ]
  },
  {
   "cell_type": "markdown",
   "metadata": {},
   "source": [
    "## Real Data Examples"
   ]
  },
  {
   "cell_type": "markdown",
   "metadata": {},
   "source": [
    "We will now perform clustering analysis on college basketball data with our implementation of affinity propagation as well as k-means and k-nearest neighbors clustering methods."
   ]
  },
  {
   "cell_type": "code",
   "execution_count": 237,
   "metadata": {},
   "outputs": [],
   "source": [
    "import pickle\n",
    "import pandas as pd\n",
    "import sklearn as sk\n",
    "import matplotlib.pyplot as plt\n",
    "import seaborn as sns\n",
    "import numpy as np\n",
    "from sklearn.cluster import KMeans, AgglomerativeClustering\n",
    "from sklearn.neighbors import NearestCentroid"
   ]
  },
  {
   "cell_type": "code",
   "execution_count": 106,
   "metadata": {
    "scrolled": true
   },
   "outputs": [
    {
     "data": {
      "text/html": [
       "<div>\n",
       "<style scoped>\n",
       "    .dataframe tbody tr th:only-of-type {\n",
       "        vertical-align: middle;\n",
       "    }\n",
       "\n",
       "    .dataframe tbody tr th {\n",
       "        vertical-align: top;\n",
       "    }\n",
       "\n",
       "    .dataframe thead th {\n",
       "        text-align: right;\n",
       "    }\n",
       "</style>\n",
       "<table border=\"1\" class=\"dataframe\">\n",
       "  <thead>\n",
       "    <tr style=\"text-align: right;\">\n",
       "      <th></th>\n",
       "      <th>season</th>\n",
       "      <th>school</th>\n",
       "      <th>conf</th>\n",
       "      <th>g</th>\n",
       "      <th>gs</th>\n",
       "      <th>mp</th>\n",
       "      <th>fg</th>\n",
       "      <th>fga</th>\n",
       "      <th>fg%</th>\n",
       "      <th>2p</th>\n",
       "      <th>...</th>\n",
       "      <th>blk%</th>\n",
       "      <th>tov%</th>\n",
       "      <th>usg%</th>\n",
       "      <th>ows</th>\n",
       "      <th>dws</th>\n",
       "      <th>ws</th>\n",
       "      <th>ws_40</th>\n",
       "      <th>obpm</th>\n",
       "      <th>dbpm</th>\n",
       "      <th>bpm</th>\n",
       "    </tr>\n",
       "    <tr>\n",
       "      <th>id</th>\n",
       "      <th></th>\n",
       "      <th></th>\n",
       "      <th></th>\n",
       "      <th></th>\n",
       "      <th></th>\n",
       "      <th></th>\n",
       "      <th></th>\n",
       "      <th></th>\n",
       "      <th></th>\n",
       "      <th></th>\n",
       "      <th></th>\n",
       "      <th></th>\n",
       "      <th></th>\n",
       "      <th></th>\n",
       "      <th></th>\n",
       "      <th></th>\n",
       "      <th></th>\n",
       "      <th></th>\n",
       "      <th></th>\n",
       "      <th></th>\n",
       "      <th></th>\n",
       "    </tr>\n",
       "  </thead>\n",
       "  <tbody>\n",
       "    <tr>\n",
       "      <th>achiupr01</th>\n",
       "      <td>2019-20</td>\n",
       "      <td>Memphis</td>\n",
       "      <td>AAC</td>\n",
       "      <td>31</td>\n",
       "      <td>31</td>\n",
       "      <td>30.4</td>\n",
       "      <td>5.9</td>\n",
       "      <td>11.9</td>\n",
       "      <td>0.493</td>\n",
       "      <td>5.5</td>\n",
       "      <td>...</td>\n",
       "      <td>6.5</td>\n",
       "      <td>16.2</td>\n",
       "      <td>28.3</td>\n",
       "      <td>0.9</td>\n",
       "      <td>1.5</td>\n",
       "      <td>2.3</td>\n",
       "      <td>0.160</td>\n",
       "      <td>NaN</td>\n",
       "      <td>NaN</td>\n",
       "      <td>NaN</td>\n",
       "    </tr>\n",
       "    <tr>\n",
       "      <th>ackeral01</th>\n",
       "      <td>2004-05</td>\n",
       "      <td>Pepperdine</td>\n",
       "      <td>WCC</td>\n",
       "      <td>31</td>\n",
       "      <td>31</td>\n",
       "      <td>37.2</td>\n",
       "      <td>5.9</td>\n",
       "      <td>13.1</td>\n",
       "      <td>0.45</td>\n",
       "      <td>4.0</td>\n",
       "      <td>...</td>\n",
       "      <td>0.9</td>\n",
       "      <td>15.2</td>\n",
       "      <td>22.2</td>\n",
       "      <td>2.5</td>\n",
       "      <td>1.5</td>\n",
       "      <td>4.0</td>\n",
       "      <td>0.140</td>\n",
       "      <td>NaN</td>\n",
       "      <td>NaN</td>\n",
       "      <td>NaN</td>\n",
       "    </tr>\n",
       "    <tr>\n",
       "      <th>acyqu01</th>\n",
       "      <td>2011-12</td>\n",
       "      <td>Baylor</td>\n",
       "      <td>Big 12</td>\n",
       "      <td>38</td>\n",
       "      <td>38</td>\n",
       "      <td>29.7</td>\n",
       "      <td>4.2</td>\n",
       "      <td>7.2</td>\n",
       "      <td>0.577</td>\n",
       "      <td>4.1</td>\n",
       "      <td>...</td>\n",
       "      <td>5.9</td>\n",
       "      <td>17.5</td>\n",
       "      <td>18.9</td>\n",
       "      <td>1.7</td>\n",
       "      <td>0.7</td>\n",
       "      <td>2.4</td>\n",
       "      <td>0.175</td>\n",
       "      <td>NaN</td>\n",
       "      <td>NaN</td>\n",
       "      <td>NaN</td>\n",
       "    </tr>\n",
       "    <tr>\n",
       "      <th>adamsha01</th>\n",
       "      <td>2005-06</td>\n",
       "      <td>Arizona</td>\n",
       "      <td>Pac-10</td>\n",
       "      <td>31</td>\n",
       "      <td>30</td>\n",
       "      <td>33.3</td>\n",
       "      <td>7.5</td>\n",
       "      <td>15.8</td>\n",
       "      <td>0.478</td>\n",
       "      <td>7.0</td>\n",
       "      <td>...</td>\n",
       "      <td>1.0</td>\n",
       "      <td>11.4</td>\n",
       "      <td>28.2</td>\n",
       "      <td>1.2</td>\n",
       "      <td>2.6</td>\n",
       "      <td>3.9</td>\n",
       "      <td>0.150</td>\n",
       "      <td>NaN</td>\n",
       "      <td>NaN</td>\n",
       "      <td>NaN</td>\n",
       "    </tr>\n",
       "    <tr>\n",
       "      <th>adamsja01</th>\n",
       "      <td>2017-18</td>\n",
       "      <td>St. Bonaventure</td>\n",
       "      <td>A-10</td>\n",
       "      <td>28</td>\n",
       "      <td>27</td>\n",
       "      <td>37.0</td>\n",
       "      <td>5.5</td>\n",
       "      <td>12.5</td>\n",
       "      <td>0.437</td>\n",
       "      <td>2.8</td>\n",
       "      <td>...</td>\n",
       "      <td>0.9</td>\n",
       "      <td>15.9</td>\n",
       "      <td>25.9</td>\n",
       "      <td>2.6</td>\n",
       "      <td>0.7</td>\n",
       "      <td>3.3</td>\n",
       "      <td>0.196</td>\n",
       "      <td>NaN</td>\n",
       "      <td>NaN</td>\n",
       "      <td>NaN</td>\n",
       "    </tr>\n",
       "  </tbody>\n",
       "</table>\n",
       "<p>5 rows × 49 columns</p>\n",
       "</div>"
      ],
      "text/plain": [
       "            season           school    conf   g  gs    mp   fg   fga    fg%  \\\n",
       "id                                                                            \n",
       "achiupr01  2019-20          Memphis     AAC  31  31  30.4  5.9  11.9  0.493   \n",
       "ackeral01  2004-05       Pepperdine     WCC  31  31  37.2  5.9  13.1   0.45   \n",
       "acyqu01    2011-12           Baylor  Big 12  38  38  29.7  4.2   7.2  0.577   \n",
       "adamsha01  2005-06          Arizona  Pac-10  31  30  33.3  7.5  15.8  0.478   \n",
       "adamsja01  2017-18  St. Bonaventure    A-10  28  27  37.0  5.5  12.5  0.437   \n",
       "\n",
       "            2p  ... blk%  tov%  usg%  ows  dws   ws  ws_40 obpm dbpm bpm  \n",
       "id              ...                                                       \n",
       "achiupr01  5.5  ...  6.5  16.2  28.3  0.9  1.5  2.3  0.160  NaN  NaN NaN  \n",
       "ackeral01  4.0  ...  0.9  15.2  22.2  2.5  1.5  4.0  0.140  NaN  NaN NaN  \n",
       "acyqu01    4.1  ...  5.9  17.5  18.9  1.7  0.7  2.4  0.175  NaN  NaN NaN  \n",
       "adamsha01  7.0  ...  1.0  11.4  28.2  1.2  2.6  3.9  0.150  NaN  NaN NaN  \n",
       "adamsja01  2.8  ...  0.9  15.9  25.9  2.6  0.7  3.3  0.196  NaN  NaN NaN  \n",
       "\n",
       "[5 rows x 49 columns]"
      ]
     },
     "execution_count": 106,
     "metadata": {},
     "output_type": "execute_result"
    }
   ],
   "source": [
    "# read data\n",
    "df_col_stats = pd.read_pickle(\"./data/college_stats.pkl\")\n",
    "\n",
    "# get latest season played\n",
    "df_col_stats.reset_index(['season'], inplace=True)\n",
    "df_col_stats = df_col_stats.groupby(level=0).last()\n",
    "df_col_stats.head()"
   ]
  },
  {
   "cell_type": "code",
   "execution_count": 107,
   "metadata": {
    "scrolled": true
   },
   "outputs": [
    {
     "data": {
      "text/html": [
       "<div>\n",
       "<style scoped>\n",
       "    .dataframe tbody tr th:only-of-type {\n",
       "        vertical-align: middle;\n",
       "    }\n",
       "\n",
       "    .dataframe tbody tr th {\n",
       "        vertical-align: top;\n",
       "    }\n",
       "\n",
       "    .dataframe thead th {\n",
       "        text-align: right;\n",
       "    }\n",
       "</style>\n",
       "<table border=\"1\" class=\"dataframe\">\n",
       "  <thead>\n",
       "    <tr style=\"text-align: right;\">\n",
       "      <th></th>\n",
       "      <th>fg</th>\n",
       "      <th>fga</th>\n",
       "      <th>fg%</th>\n",
       "      <th>2p</th>\n",
       "      <th>2pa</th>\n",
       "      <th>2p%</th>\n",
       "      <th>3p</th>\n",
       "      <th>3pa</th>\n",
       "      <th>3p%</th>\n",
       "      <th>ft</th>\n",
       "      <th>...</th>\n",
       "      <th>ft%</th>\n",
       "      <th>orb</th>\n",
       "      <th>drb</th>\n",
       "      <th>trb</th>\n",
       "      <th>ast</th>\n",
       "      <th>stl</th>\n",
       "      <th>blk</th>\n",
       "      <th>tov</th>\n",
       "      <th>pf</th>\n",
       "      <th>pts</th>\n",
       "    </tr>\n",
       "    <tr>\n",
       "      <th>id</th>\n",
       "      <th></th>\n",
       "      <th></th>\n",
       "      <th></th>\n",
       "      <th></th>\n",
       "      <th></th>\n",
       "      <th></th>\n",
       "      <th></th>\n",
       "      <th></th>\n",
       "      <th></th>\n",
       "      <th></th>\n",
       "      <th></th>\n",
       "      <th></th>\n",
       "      <th></th>\n",
       "      <th></th>\n",
       "      <th></th>\n",
       "      <th></th>\n",
       "      <th></th>\n",
       "      <th></th>\n",
       "      <th></th>\n",
       "      <th></th>\n",
       "      <th></th>\n",
       "    </tr>\n",
       "  </thead>\n",
       "  <tbody>\n",
       "    <tr>\n",
       "      <th>achiupr01</th>\n",
       "      <td>5.9</td>\n",
       "      <td>11.9</td>\n",
       "      <td>0.493</td>\n",
       "      <td>5.5</td>\n",
       "      <td>10.6</td>\n",
       "      <td>0.514</td>\n",
       "      <td>0.4</td>\n",
       "      <td>1.3</td>\n",
       "      <td>0.325</td>\n",
       "      <td>3.6</td>\n",
       "      <td>...</td>\n",
       "      <td>0.599</td>\n",
       "      <td>3.0</td>\n",
       "      <td>7.8</td>\n",
       "      <td>10.8</td>\n",
       "      <td>1.0</td>\n",
       "      <td>1.1</td>\n",
       "      <td>1.9</td>\n",
       "      <td>2.8</td>\n",
       "      <td>2.4</td>\n",
       "      <td>15.8</td>\n",
       "    </tr>\n",
       "    <tr>\n",
       "      <th>ackeral01</th>\n",
       "      <td>5.9</td>\n",
       "      <td>13.1</td>\n",
       "      <td>0.450</td>\n",
       "      <td>4.0</td>\n",
       "      <td>8.7</td>\n",
       "      <td>0.459</td>\n",
       "      <td>1.9</td>\n",
       "      <td>4.4</td>\n",
       "      <td>0.431</td>\n",
       "      <td>2.9</td>\n",
       "      <td>...</td>\n",
       "      <td>0.858</td>\n",
       "      <td>1.4</td>\n",
       "      <td>5.1</td>\n",
       "      <td>6.5</td>\n",
       "      <td>3.7</td>\n",
       "      <td>1.3</td>\n",
       "      <td>0.5</td>\n",
       "      <td>2.6</td>\n",
       "      <td>1.9</td>\n",
       "      <td>16.6</td>\n",
       "    </tr>\n",
       "    <tr>\n",
       "      <th>acyqu01</th>\n",
       "      <td>4.2</td>\n",
       "      <td>7.2</td>\n",
       "      <td>0.577</td>\n",
       "      <td>4.1</td>\n",
       "      <td>7.1</td>\n",
       "      <td>0.576</td>\n",
       "      <td>0.1</td>\n",
       "      <td>0.1</td>\n",
       "      <td>0.600</td>\n",
       "      <td>3.6</td>\n",
       "      <td>...</td>\n",
       "      <td>0.782</td>\n",
       "      <td>2.6</td>\n",
       "      <td>4.8</td>\n",
       "      <td>7.4</td>\n",
       "      <td>1.0</td>\n",
       "      <td>0.9</td>\n",
       "      <td>1.8</td>\n",
       "      <td>1.9</td>\n",
       "      <td>3.1</td>\n",
       "      <td>12.0</td>\n",
       "    </tr>\n",
       "    <tr>\n",
       "      <th>adamsha01</th>\n",
       "      <td>7.5</td>\n",
       "      <td>15.8</td>\n",
       "      <td>0.478</td>\n",
       "      <td>7.0</td>\n",
       "      <td>13.7</td>\n",
       "      <td>0.511</td>\n",
       "      <td>0.5</td>\n",
       "      <td>2.1</td>\n",
       "      <td>0.262</td>\n",
       "      <td>1.9</td>\n",
       "      <td>...</td>\n",
       "      <td>0.611</td>\n",
       "      <td>2.2</td>\n",
       "      <td>2.8</td>\n",
       "      <td>5.0</td>\n",
       "      <td>2.9</td>\n",
       "      <td>2.6</td>\n",
       "      <td>0.5</td>\n",
       "      <td>2.2</td>\n",
       "      <td>1.9</td>\n",
       "      <td>17.5</td>\n",
       "    </tr>\n",
       "    <tr>\n",
       "      <th>adamsja01</th>\n",
       "      <td>5.5</td>\n",
       "      <td>12.5</td>\n",
       "      <td>0.437</td>\n",
       "      <td>2.8</td>\n",
       "      <td>6.4</td>\n",
       "      <td>0.438</td>\n",
       "      <td>2.7</td>\n",
       "      <td>6.1</td>\n",
       "      <td>0.436</td>\n",
       "      <td>5.5</td>\n",
       "      <td>...</td>\n",
       "      <td>0.851</td>\n",
       "      <td>0.4</td>\n",
       "      <td>3.0</td>\n",
       "      <td>3.4</td>\n",
       "      <td>5.2</td>\n",
       "      <td>1.5</td>\n",
       "      <td>0.3</td>\n",
       "      <td>3.1</td>\n",
       "      <td>2.9</td>\n",
       "      <td>19.1</td>\n",
       "    </tr>\n",
       "  </tbody>\n",
       "</table>\n",
       "<p>5 rows × 21 columns</p>\n",
       "</div>"
      ],
      "text/plain": [
       "            fg   fga    fg%   2p   2pa    2p%   3p  3pa    3p%   ft  ...  \\\n",
       "id                                                                   ...   \n",
       "achiupr01  5.9  11.9  0.493  5.5  10.6  0.514  0.4  1.3  0.325  3.6  ...   \n",
       "ackeral01  5.9  13.1  0.450  4.0   8.7  0.459  1.9  4.4  0.431  2.9  ...   \n",
       "acyqu01    4.2   7.2  0.577  4.1   7.1  0.576  0.1  0.1  0.600  3.6  ...   \n",
       "adamsha01  7.5  15.8  0.478  7.0  13.7  0.511  0.5  2.1  0.262  1.9  ...   \n",
       "adamsja01  5.5  12.5  0.437  2.8   6.4  0.438  2.7  6.1  0.436  5.5  ...   \n",
       "\n",
       "             ft%  orb  drb   trb  ast  stl  blk  tov   pf   pts  \n",
       "id                                                               \n",
       "achiupr01  0.599  3.0  7.8  10.8  1.0  1.1  1.9  2.8  2.4  15.8  \n",
       "ackeral01  0.858  1.4  5.1   6.5  3.7  1.3  0.5  2.6  1.9  16.6  \n",
       "acyqu01    0.782  2.6  4.8   7.4  1.0  0.9  1.8  1.9  3.1  12.0  \n",
       "adamsha01  0.611  2.2  2.8   5.0  2.9  2.6  0.5  2.2  1.9  17.5  \n",
       "adamsja01  0.851  0.4  3.0   3.4  5.2  1.5  0.3  3.1  2.9  19.1  \n",
       "\n",
       "[5 rows x 21 columns]"
      ]
     },
     "execution_count": 107,
     "metadata": {},
     "output_type": "execute_result"
    }
   ],
   "source": [
    "# grab stats on which to cluster\n",
    "df_box_score = df_col_stats.loc[:, 'fg':'pts'].fillna(0.).apply(pd.to_numeric)\n",
    "df_box_score.head()"
   ]
  },
  {
   "cell_type": "code",
   "execution_count": 108,
   "metadata": {},
   "outputs": [],
   "source": [
    "np_box_score = df_box_score.to_numpy()"
   ]
  },
  {
   "cell_type": "code",
   "execution_count": 205,
   "metadata": {},
   "outputs": [],
   "source": [
    "# sample size\n",
    "n = len(np_box_score)\n",
    "\n",
    "# negative squared error as similarity metric\n",
    "s = -distance_matrix(np_box_score, np_box_score)\n",
    "\n",
    "# equal preferences\n",
    "p = np.ones(n) * -150\n",
    "np.fill_diagonal(s, p)\n",
    "\n",
    "# perform clustering\n",
    "k, ex, lbl, _, i = affinity_propagation(s)"
   ]
  },
  {
   "cell_type": "code",
   "execution_count": 228,
   "metadata": {
    "scrolled": true
   },
   "outputs": [
    {
     "data": {
      "image/png": "[encoded data removed]",
      "text/plain": [
       "<Figure size 432x288 with 1 Axes>"
      ]
     },
     "metadata": {
      "needs_background": "light"
     },
     "output_type": "display_data"
    }
   ],
   "source": [
    "plot_affinity_clusters(np_box_score, ex, lbl, pca_axes=True)\n",
    "plt.xlabel('PCA 1')\n",
    "plt.ylabel('PCA 2')\n",
    "plt.title('College Box Score Stats AP Clusters + Exemplars')\n",
    "plt.show()"
   ]
  },
  {
   "cell_type": "code",
   "execution_count": 229,
   "metadata": {
    "scrolled": true
   },
   "outputs": [
    {
     "name": "stdout",
     "output_type": "stream",
     "text": [
      "2.16 s ± 54.1 ms per loop (mean ± std. dev. of 7 runs, 1 loop each)\n"
     ]
    }
   ],
   "source": [
    "%timeit affinity_propagation(s)"
   ]
  },
  {
   "cell_type": "markdown",
   "metadata": {},
   "source": [
    "The players that represent each exemplar are shown in the table below."
   ]
  },
  {
   "cell_type": "code",
   "execution_count": 207,
   "metadata": {
    "scrolled": true
   },
   "outputs": [
    {
     "data": {
      "text/html": [
       "<div>\n",
       "<style scoped>\n",
       "    .dataframe tbody tr th:only-of-type {\n",
       "        vertical-align: middle;\n",
       "    }\n",
       "\n",
       "    .dataframe tbody tr th {\n",
       "        vertical-align: top;\n",
       "    }\n",
       "\n",
       "    .dataframe thead th {\n",
       "        text-align: right;\n",
       "    }\n",
       "</style>\n",
       "<table border=\"1\" class=\"dataframe\">\n",
       "  <thead>\n",
       "    <tr style=\"text-align: right;\">\n",
       "      <th></th>\n",
       "      <th>fg</th>\n",
       "      <th>fga</th>\n",
       "      <th>fg%</th>\n",
       "      <th>2p</th>\n",
       "      <th>2pa</th>\n",
       "      <th>2p%</th>\n",
       "      <th>3p</th>\n",
       "      <th>3pa</th>\n",
       "      <th>3p%</th>\n",
       "      <th>ft</th>\n",
       "      <th>...</th>\n",
       "      <th>ft%</th>\n",
       "      <th>orb</th>\n",
       "      <th>drb</th>\n",
       "      <th>trb</th>\n",
       "      <th>ast</th>\n",
       "      <th>stl</th>\n",
       "      <th>blk</th>\n",
       "      <th>tov</th>\n",
       "      <th>pf</th>\n",
       "      <th>pts</th>\n",
       "    </tr>\n",
       "    <tr>\n",
       "      <th>id</th>\n",
       "      <th></th>\n",
       "      <th></th>\n",
       "      <th></th>\n",
       "      <th></th>\n",
       "      <th></th>\n",
       "      <th></th>\n",
       "      <th></th>\n",
       "      <th></th>\n",
       "      <th></th>\n",
       "      <th></th>\n",
       "      <th></th>\n",
       "      <th></th>\n",
       "      <th></th>\n",
       "      <th></th>\n",
       "      <th></th>\n",
       "      <th></th>\n",
       "      <th></th>\n",
       "      <th></th>\n",
       "      <th></th>\n",
       "      <th></th>\n",
       "      <th></th>\n",
       "    </tr>\n",
       "  </thead>\n",
       "  <tbody>\n",
       "    <tr>\n",
       "      <th>hillso01</th>\n",
       "      <td>4.5</td>\n",
       "      <td>9.9</td>\n",
       "      <td>0.458</td>\n",
       "      <td>2.9</td>\n",
       "      <td>5.7</td>\n",
       "      <td>0.508</td>\n",
       "      <td>1.6</td>\n",
       "      <td>4.2</td>\n",
       "      <td>0.390</td>\n",
       "      <td>2.7</td>\n",
       "      <td>...</td>\n",
       "      <td>0.766</td>\n",
       "      <td>1.7</td>\n",
       "      <td>3.6</td>\n",
       "      <td>5.3</td>\n",
       "      <td>2.7</td>\n",
       "      <td>1.1</td>\n",
       "      <td>0.6</td>\n",
       "      <td>2.2</td>\n",
       "      <td>2.2</td>\n",
       "      <td>13.4</td>\n",
       "    </tr>\n",
       "    <tr>\n",
       "      <th>johnsor01</th>\n",
       "      <td>6.7</td>\n",
       "      <td>14.8</td>\n",
       "      <td>0.451</td>\n",
       "      <td>4.4</td>\n",
       "      <td>9.5</td>\n",
       "      <td>0.464</td>\n",
       "      <td>2.3</td>\n",
       "      <td>5.3</td>\n",
       "      <td>0.427</td>\n",
       "      <td>4.1</td>\n",
       "      <td>...</td>\n",
       "      <td>0.698</td>\n",
       "      <td>1.7</td>\n",
       "      <td>4.1</td>\n",
       "      <td>5.8</td>\n",
       "      <td>2.9</td>\n",
       "      <td>1.1</td>\n",
       "      <td>0.7</td>\n",
       "      <td>2.5</td>\n",
       "      <td>1.8</td>\n",
       "      <td>19.7</td>\n",
       "    </tr>\n",
       "    <tr>\n",
       "      <th>joneste01</th>\n",
       "      <td>4.7</td>\n",
       "      <td>9.3</td>\n",
       "      <td>0.500</td>\n",
       "      <td>4.2</td>\n",
       "      <td>8.0</td>\n",
       "      <td>0.528</td>\n",
       "      <td>0.4</td>\n",
       "      <td>1.3</td>\n",
       "      <td>0.327</td>\n",
       "      <td>2.6</td>\n",
       "      <td>...</td>\n",
       "      <td>0.627</td>\n",
       "      <td>2.5</td>\n",
       "      <td>4.6</td>\n",
       "      <td>7.2</td>\n",
       "      <td>1.3</td>\n",
       "      <td>1.3</td>\n",
       "      <td>1.8</td>\n",
       "      <td>1.6</td>\n",
       "      <td>2.4</td>\n",
       "      <td>12.3</td>\n",
       "    </tr>\n",
       "    <tr>\n",
       "      <th>kinseta01</th>\n",
       "      <td>5.5</td>\n",
       "      <td>12.1</td>\n",
       "      <td>0.453</td>\n",
       "      <td>3.6</td>\n",
       "      <td>7.2</td>\n",
       "      <td>0.507</td>\n",
       "      <td>1.9</td>\n",
       "      <td>5.0</td>\n",
       "      <td>0.376</td>\n",
       "      <td>3.0</td>\n",
       "      <td>...</td>\n",
       "      <td>0.843</td>\n",
       "      <td>1.4</td>\n",
       "      <td>3.2</td>\n",
       "      <td>4.6</td>\n",
       "      <td>2.3</td>\n",
       "      <td>1.6</td>\n",
       "      <td>0.3</td>\n",
       "      <td>2.1</td>\n",
       "      <td>2.2</td>\n",
       "      <td>15.8</td>\n",
       "    </tr>\n",
       "    <tr>\n",
       "      <th>martija01</th>\n",
       "      <td>6.1</td>\n",
       "      <td>12.0</td>\n",
       "      <td>0.509</td>\n",
       "      <td>5.7</td>\n",
       "      <td>10.5</td>\n",
       "      <td>0.545</td>\n",
       "      <td>0.4</td>\n",
       "      <td>1.6</td>\n",
       "      <td>0.269</td>\n",
       "      <td>4.2</td>\n",
       "      <td>...</td>\n",
       "      <td>0.690</td>\n",
       "      <td>3.0</td>\n",
       "      <td>6.3</td>\n",
       "      <td>9.2</td>\n",
       "      <td>1.8</td>\n",
       "      <td>1.2</td>\n",
       "      <td>0.7</td>\n",
       "      <td>2.8</td>\n",
       "      <td>2.8</td>\n",
       "      <td>16.9</td>\n",
       "    </tr>\n",
       "    <tr>\n",
       "      <th>toscaju01</th>\n",
       "      <td>3.1</td>\n",
       "      <td>6.4</td>\n",
       "      <td>0.490</td>\n",
       "      <td>2.6</td>\n",
       "      <td>4.9</td>\n",
       "      <td>0.533</td>\n",
       "      <td>0.5</td>\n",
       "      <td>1.5</td>\n",
       "      <td>0.348</td>\n",
       "      <td>1.5</td>\n",
       "      <td>...</td>\n",
       "      <td>0.553</td>\n",
       "      <td>2.2</td>\n",
       "      <td>3.5</td>\n",
       "      <td>5.7</td>\n",
       "      <td>1.7</td>\n",
       "      <td>1.1</td>\n",
       "      <td>0.4</td>\n",
       "      <td>2.1</td>\n",
       "      <td>2.5</td>\n",
       "      <td>8.3</td>\n",
       "    </tr>\n",
       "  </tbody>\n",
       "</table>\n",
       "<p>6 rows × 21 columns</p>\n",
       "</div>"
      ],
      "text/plain": [
       "            fg   fga    fg%   2p   2pa    2p%   3p  3pa    3p%   ft  ...  \\\n",
       "id                                                                   ...   \n",
       "hillso01   4.5   9.9  0.458  2.9   5.7  0.508  1.6  4.2  0.390  2.7  ...   \n",
       "johnsor01  6.7  14.8  0.451  4.4   9.5  0.464  2.3  5.3  0.427  4.1  ...   \n",
       "joneste01  4.7   9.3  0.500  4.2   8.0  0.528  0.4  1.3  0.327  2.6  ...   \n",
       "kinseta01  5.5  12.1  0.453  3.6   7.2  0.507  1.9  5.0  0.376  3.0  ...   \n",
       "martija01  6.1  12.0  0.509  5.7  10.5  0.545  0.4  1.6  0.269  4.2  ...   \n",
       "toscaju01  3.1   6.4  0.490  2.6   4.9  0.533  0.5  1.5  0.348  1.5  ...   \n",
       "\n",
       "             ft%  orb  drb  trb  ast  stl  blk  tov   pf   pts  \n",
       "id                                                              \n",
       "hillso01   0.766  1.7  3.6  5.3  2.7  1.1  0.6  2.2  2.2  13.4  \n",
       "johnsor01  0.698  1.7  4.1  5.8  2.9  1.1  0.7  2.5  1.8  19.7  \n",
       "joneste01  0.627  2.5  4.6  7.2  1.3  1.3  1.8  1.6  2.4  12.3  \n",
       "kinseta01  0.843  1.4  3.2  4.6  2.3  1.6  0.3  2.1  2.2  15.8  \n",
       "martija01  0.690  3.0  6.3  9.2  1.8  1.2  0.7  2.8  2.8  16.9  \n",
       "toscaju01  0.553  2.2  3.5  5.7  1.7  1.1  0.4  2.1  2.5   8.3  \n",
       "\n",
       "[6 rows x 21 columns]"
      ]
     },
     "execution_count": 207,
     "metadata": {},
     "output_type": "execute_result"
    }
   ],
   "source": [
    "# table of exemplars\n",
    "df_box_score.iloc[ex]"
   ]
  },
  {
   "cell_type": "markdown",
   "metadata": {},
   "source": [
    "## Comparative Analysis"
   ]
  },
  {
   "cell_type": "markdown",
   "metadata": {},
   "source": [
    "#### Affinity Propagation"
   ]
  },
  {
   "cell_type": "code",
   "execution_count": 245,
   "metadata": {},
   "outputs": [
    {
     "name": "stdout",
     "output_type": "stream",
     "text": [
      "Affinity Prop. Error Measures:\n",
      "\n",
      "Mean absolute error: 14.555\n",
      "Mean squared error:  23.167\n"
     ]
    }
   ],
   "source": [
    "np_exemplars = np_box_score[ex]\n",
    "abs_dist = 0\n",
    "sq_dist = 0\n",
    "\n",
    "for l, x in zip(lbl, np_box_score):\n",
    "    abs_dist += np.sum(np.abs(x-np_exemplars[l]))\n",
    "    sq_dist += np.sum(np.square(x-np_exemplars[l]))\n",
    "    \n",
    "abs_dist /= n\n",
    "sq_dist /= n\n",
    "\n",
    "print('Affinity Prop. Error Measures:\\n')\n",
    "print('Mean absolute error:', np.round(abs_dist, 3))\n",
    "print('Mean squared error: ', np.round(sq_dist, 3))"
   ]
  },
  {
   "cell_type": "markdown",
   "metadata": {},
   "source": [
    "#### K-means"
   ]
  },
  {
   "cell_type": "code",
   "execution_count": 236,
   "metadata": {
    "scrolled": false
   },
   "outputs": [
    {
     "data": {
      "image/png": "[encoded data removed]",
      "text/plain": [
       "<Figure size 432x288 with 1 Axes>"
      ]
     },
     "metadata": {
      "needs_background": "light"
     },
     "output_type": "display_data"
    }
   ],
   "source": [
    "kmeans = KMeans(n_clusters=6).fit(np_box_score)\n",
    "labels = kmeans.labels_\n",
    "center = kmeans.cluster_centers_\n",
    "plot_affinity_clusters(np_box_score, [], labels, pca_axes=True)\n",
    "plt.xlabel('PCA 1')\n",
    "plt.ylabel('PCA 2')\n",
    "plt.title('College Box Score Stats AP Clusters + Exemplars')\n",
    "plt.show()"
   ]
  },
  {
   "cell_type": "code",
   "execution_count": 243,
   "metadata": {},
   "outputs": [
    {
     "name": "stdout",
     "output_type": "stream",
     "text": [
      "KMeans Error Measures:\n",
      "\n",
      "Mean absolute error: 13.742\n",
      "Mean squared error:  20.053\n"
     ]
    }
   ],
   "source": [
    "abs_dist = 0\n",
    "sq_dist = 0\n",
    "\n",
    "for l, x in zip(labels, np_box_score):\n",
    "    abs_dist += np.sum(np.abs(x-center[l]))\n",
    "    sq_dist += np.sum(np.square(x-center[l]))\n",
    "   \n",
    "abs_dist /= n\n",
    "sq_dist /= n\n",
    "\n",
    "print('KMeans Error Measures:\\n')\n",
    "print('Mean absolute error:', np.round(abs_dist, 3))\n",
    "print('Mean squared error: ', np.round(sq_dist, 3))"
   ]
  },
  {
   "cell_type": "markdown",
   "metadata": {},
   "source": [
    "#### Agglomerative Clustering"
   ]
  },
  {
   "cell_type": "code",
   "execution_count": 235,
   "metadata": {},
   "outputs": [
    {
     "data": {
      "image/png": "[encoded data removed]",
      "text/plain": [
       "<Figure size 432x288 with 1 Axes>"
      ]
     },
     "metadata": {
      "needs_background": "light"
     },
     "output_type": "display_data"
    }
   ],
   "source": [
    "labels = AgglomerativeClustering(n_clusters=6).fit_predict(np_box_score)\n",
    "plot_affinity_clusters(np_box_score, [], labels, pca_axes=True)\n",
    "plt.xlabel('PCA 1')\n",
    "plt.ylabel('PCA 2')\n",
    "plt.title('College Box Score Stats AP Clusters + Exemplars')\n",
    "plt.show()"
   ]
  },
  {
   "cell_type": "code",
   "execution_count": 242,
   "metadata": {
    "scrolled": true
   },
   "outputs": [
    {
     "name": "stdout",
     "output_type": "stream",
     "text": [
      "Agglomerative Error Measures:\n",
      "\n",
      "Mean absolute error: 13.742\n",
      "Mean squared error:  20.053\n"
     ]
    }
   ],
   "source": [
    "# obtain agglomerative centroids\n",
    "clf = NearestCentroid()\n",
    "clf.fit(np_box_score, labels)\n",
    "center = clf.centroids_\n",
    "\n",
    "abs_dist = 0\n",
    "sq_dist = 0\n",
    "\n",
    "for l, x in zip(labels, np_box_score):\n",
    "    abs_dist += np.sum(np.abs(x-center[l]))\n",
    "    sq_dist += np.sum(np.square(x-center[l]))\n",
    "   \n",
    "abs_dist /= n\n",
    "sq_dist /= n\n",
    "\n",
    "print('Agglomerative Error Measures:\\n')\n",
    "print('Mean absolute error:', np.round(abs_dist, 3))\n",
    "print('Mean squared error: ', np.round(sq_dist, 3))"
   ]
  },
  {
   "cell_type": "markdown",
   "metadata": {},
   "source": [
    "As can be seen from the error measures displayed above, affinity propagation tends to do slightly worse than other conventional methods in pure clustering tasks with regard to mean-distance-to-centroid metrics. This is likely due to the fact that the centroids generated by other clustering methods need not be actual data points, so they have greater freedom to attain values that minimize error metrics. However, in other cases, such as with the sparse genetics dataset clustered in the original paper, these metrics may sometimes fall heavily in affinity propagation's favor. The speed of execution is also slightly worse than that of the two clustering algorithms used above, though an implementation that allows for sparse similarity would show a speedup proportional to the sparsity of the similarity matrix that is supplied."
   ]
  },
  {
   "cell_type": "markdown",
   "metadata": {},
   "source": [
    "## Installation Instructions"
   ]
  },
  {
   "cell_type": "markdown",
   "metadata": {},
   "source": [
    "This package, dubbed <a href=\"https://test.pypi.org/project/aff-prop/\">\"aff_prop\"</a>, is available on the TestPyPi platform for installation via pip. To install...\n",
    "1. Ensure <a href=\"https://visualstudio.microsoft.com/visual-cpp-build-tools/\">C++ Build Tools 14</a> or greater is installed on your system.\n",
    "\n",
    "\n",
    "2. Run the following command in your terminal: \n",
    "\n",
    "        pip install -i https://test.pypi.org/simple/ --extra-index-url https://pypi.org/simple/ aff-prop\n",
    "    \n",
    "    \n",
    "3. Import via the following line:\n",
    "\n",
    "        from aff_prop.aff_prop import affinity_propagation\n",
    "        \n",
    "    \n",
    "4. The plotting function may also be imported via:\n",
    "\n",
    "\n",
    "        from aff_prop.aff_prop import plot_affinity_clusters"
   ]
  },
  {
   "cell_type": "markdown",
   "metadata": {},
   "source": [
    "## Conclusion"
   ]
  },
  {
   "cell_type": "markdown",
   "metadata": {},
   "source": [
    "We find affinity propagation to be a highly interesting algorithm due to its algorithmic simplicity and its apparent effectiveness in clustering many types of data. It is highly applicable to any dataset for which a similarity matrix can be defined for pairs of data points, which is not a small subset of all possible datasets. Problem domains in which this algorithm may be useful are those involving unsupervised learning or classification due to the way it concretely relates data points to each other. Examples of these tasks are face identification and unsupervised detection of optimal transport hubs. The algorithm is limited by computational power for dense similarity, though an implementation accounting for sparse similarity would provide significant speed improvements without loss of clustering capabilities (supposing the ignored data point pairs were not as irrelevant as specified by the user). As such, an immense improvement on our current implementation would be to allow for sparse similarity. Another limitiation is the extreme sensitivity of the clustering output to the preferences specified prior to execution."
   ]
  },
  {
   "cell_type": "markdown",
   "metadata": {},
   "source": [
    "## References\n",
    "\n",
    "Frey, Dueck (2007) <i>Clustering by Passing Messages Between Data Points</i>\n",
    "\n",
    "Sports Reference LLC Basketball-Reference.com - Basketball Statistics and History. https://www.basketball-reference.com/. 2021"
   ]
  }
 ],
 "metadata": {
  "kernelspec": {
   "display_name": "Python 3",
   "language": "python",
   "name": "python3"
  },
  "language_info": {
   "codemirror_mode": {
    "name": "ipython",
    "version": 3
   },
   "file_extension": ".py",
   "mimetype": "text/x-python",
   "name": "python",
   "nbconvert_exporter": "python",
   "pygments_lexer": "ipython3",
   "version": "3.9.4"
  }
 },
 "nbformat": 4,
 "nbformat_minor": 4
}
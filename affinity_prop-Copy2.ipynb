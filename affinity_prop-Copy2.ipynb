{
 "cells": [
  {
   "cell_type": "markdown",
   "metadata": {},
   "source": [
    "## Outline"
   ]
  },
  {
   "cell_type": "markdown",
   "metadata": {},
   "source": [
    "##### Paper\n",
    "\n",
    "Frey, Dueck (2007) <i>Clustering by Passing Messages Between Data Points</i>\n",
    "\n",
    "##### Overview\n",
    "- Clustering algorithm\n",
    "- Each data point is node in network\n",
    "- Messages sent between nodes\n",
    "- Data points have \"affinity\" for neighbors as \"exemplars\" (similar to cluster centroids)\n",
    "- Exemplars are iteratively chosen through message-passing procedure between data points\n",
    "\n",
    "##### Input\n",
    "- Input is similarity $s(i, k)$ for points $i$ and $k$...\n",
    "    - i.e. $s(i, k) = -\\Vert x_i - x_k \\Vert^2$\n",
    "    \n",
    "    \n",
    "- ...and \"preferences\" $s(k, k)$\n",
    "    - Diagonal elements of $s$-matrix\n",
    "    - Larger $s(k, k) \\rightarrow$ more likely to be chosen as exemplar\n",
    "    - Under equal prior preference for all points, scale of shared value determines # of clusters\n",
    "    \n",
    "##### Algorithm Setup\n",
    "- Two types of messages are passed\n",
    "    1. \"Responsibility\" $r(i, k)$ from $i$ to $k$\n",
    "        - \"...accumulated evidence for how well-suited point $k$ is to serve as the exemplar for point $i$...\"\n",
    "        - Accounts for other potential exemplars for $i$\n",
    "    2. \"Availability\" $a(i, k)$ from $k$ to $i$\n",
    "        - \"...accumulated evidence for how appropriate it would be for point $i$ to choose point $k$ as its exemplar...\"\n",
    "        - Accounts for support from other points that point $k$ should be an exemplar\n",
    "        - Initialize $a(i, k) = 0$\n",
    "        \n",
    "##### Algorithm Steps\n",
    "- At each step...\n",
    "    1. Update responsibility:\n",
    "    $$r(i, k) \\leftarrow s(i, k) - \\underset{k' \\text{s.t.} k' \\neq k}{\\max} \\left\\{ a(i, k') + s(i, k') \\right\\}$$\n",
    "    \n",
    "    2. Update availability for $i \\neq k$:\n",
    "    $$a(i, k) \\leftarrow \\min \\left\\{ 0, r(k, k) + \\hspace{-15px} \\sum\\limits_{i' \\text{s.t.} i' \\not\\in \\{i, k\\}} \\hspace{-10px} \\max \\{0, r(i', k)\\} \\right\\}$$\n",
    "    \n",
    "    3. Update self-availability:\n",
    "    $$a(k, k) \\leftarrow \\hspace{-15px} \\sum\\limits_{i' \\text{s.t.} i' \\neq k} \\hspace{-10px} \\max \\{0, r(i', k)\\}$$\n",
    "    \n",
    "    4. Assign exemplars:\n",
    "        - For point $i$, the value of $k$ that maximizes $a(i, k) + r(i, k)$ either...\n",
    "            - If $i=k$, identifies $i$ as an exemplar\n",
    "            - If $i \\neq k$, identifies $k$ as the exemplar for point $i$\n",
    "        \n",
    "    \n",
    "- Algorithm may terminate after...\n",
    "    - Fixed iterations\n",
    "    - Changes in messages fall below threshold\n",
    "    - Local decisions stay constant for a number of iterations\n",
    "    \n",
    "    \n",
    "- Apply damping to messages\n",
    "    - Avoids oscillations\n",
    "    - Each message is $\\lambda$ times previous value plus $1-\\lambda$ times update value\n",
    "        - $\\lambda \\in [0, 1]$ with default $\\lambda = 0.5$\n",
    "        \n",
    "\n",
    "- In summary, AP consists of the following steps:\n",
    "    1. Updating all responsibilities given availabilities\n",
    "    2. Updating all availabilities given responsibilities\n",
    "    3. Combining availabilities and responsibilities to monitor exemplar decisions\n",
    "    4. Terminate algorithm if stopping condition met, otherwise go to 1."
   ]
  },
  {
   "cell_type": "markdown",
   "metadata": {},
   "source": [
    "## Implementation"
   ]
  },
  {
   "cell_type": "code",
   "execution_count": 1,
   "metadata": {},
   "outputs": [],
   "source": [
    "import numpy as np\n",
    "import matplotlib.pyplot as plt\n",
    "from scipy.spatial import distance_matrix\n",
    "from numba import njit, prange"
   ]
  },
  {
   "cell_type": "code",
   "execution_count": 115,
   "metadata": {},
   "outputs": [],
   "source": [
    "np.random.seed(1234)\n",
    "\n",
    "size = 4\n",
    "\n",
    "# cluster 1\n",
    "c1 = np.random.multivariate_normal(\n",
    "    mean=np.array([0, -0.5]),\n",
    "    cov=np.array([\n",
    "        [0.1, 0],\n",
    "        [0, 0.1]\n",
    "    ]),\n",
    "    size=size\n",
    ")\n",
    "\n",
    "# cluster 2\n",
    "c2 = np.random.multivariate_normal(\n",
    "    mean=np.array([1, -1]),\n",
    "    cov=np.array([\n",
    "        [0.1, 0],\n",
    "        [0, 0.1]\n",
    "    ]),\n",
    "    size=size\n",
    ")\n",
    "\n",
    "# cluster 3\n",
    "c3 = np.random.multivariate_normal(\n",
    "    mean=np.array([3, 1]),\n",
    "    cov=np.array([\n",
    "        [0.1, 0],\n",
    "        [0, 0.1]\n",
    "    ]),\n",
    "    size=size\n",
    ")\n",
    "\n",
    "# combined data\n",
    "c = np.r_[c1, c2, c3]\n",
    "\n",
    "# sample size\n",
    "n = len(c)"
   ]
  },
  {
   "cell_type": "code",
   "execution_count": 116,
   "metadata": {},
   "outputs": [
    {
     "data": {
      "image/png": "[encoded data removed]",
      "text/plain": [
       "<Figure size 432x288 with 1 Axes>"
      ]
     },
     "metadata": {
      "needs_background": "light"
     },
     "output_type": "display_data"
    }
   ],
   "source": [
    "# separate clusters\n",
    "plt.scatter(*c1.T)\n",
    "plt.scatter(*c2.T)\n",
    "plt.scatter(*c3.T)\n",
    "plt.show()"
   ]
  },
  {
   "cell_type": "code",
   "execution_count": 117,
   "metadata": {
    "scrolled": true
   },
   "outputs": [],
   "source": [
    "# preference and similarity\n",
    "p = 1. * np.ones(n)\n",
    "s = -distance_matrix(c, c) + np.diag(p)"
   ]
  },
  {
   "cell_type": "code",
   "execution_count": 118,
   "metadata": {},
   "outputs": [
    {
     "data": {
      "image/png": "[encoded data removed]",
      "text/plain": [
       "<Figure size 432x288 with 1 Axes>"
      ]
     },
     "metadata": {
      "needs_background": "light"
     },
     "output_type": "display_data"
    }
   ],
   "source": [
    "plt.imshow(s)\n",
    "plt.show()"
   ]
  },
  {
   "cell_type": "code",
   "execution_count": 119,
   "metadata": {},
   "outputs": [],
   "source": [
    "def update_responsibility_naive(r, s, a, lmb=0.5):\n",
    "    \"\"\"Naive responsibility matrix computation.\n",
    "    \n",
    "    Parameters:\n",
    "        r (np.ndarray) : responsibility matrix\n",
    "        s (np.ndarray) : similarity matrix\n",
    "        a (np.ndarray) : availability matrix\n",
    "        lmb (float)    : update damping factor\n",
    "    \n",
    "    Returns:\n",
    "        r (np.ndarray) : updated responsibility matrix\n",
    "    \"\"\"\n",
    "    n = len(s)\n",
    "    for i in range(n):\n",
    "        for k in range(n):\n",
    "            max_sum = np.max(np.delete(a[i, :] + s[i, :], k))\n",
    "            r[i, k] = lmb * r[i, k] + (1 - lmb) * (s[i, k] - max_sum)\n",
    "    return r"
   ]
  },
  {
   "cell_type": "code",
   "execution_count": 120,
   "metadata": {},
   "outputs": [],
   "source": [
    "@njit(parallel=True)\n",
    "def update_responsibility_numba(r, s, a, lmb=0.5):\n",
    "    \"\"\"Numba responsibility matrix computation.\n",
    "    \n",
    "    Parameters:\n",
    "        r (np.ndarray) : responsibility matrix\n",
    "        s (np.ndarray) : similarity matrix\n",
    "        a (np.ndarray) : availability matrix\n",
    "        lmb (float)    : update damping factor\n",
    "    \n",
    "    Returns:\n",
    "        r (np.ndarray) : updated responsibility matrix\n",
    "    \"\"\"\n",
    "    n = len(s)\n",
    "    for i in prange(n):\n",
    "        for k in prange(n):\n",
    "            max_sum = np.max(np.delete(a[i, :] + s[i, :], k))\n",
    "            r[i, k] = lmb * r[i, k] + (1 - lmb) * (s[i, k] - max_sum)\n",
    "    return r"
   ]
  },
  {
   "cell_type": "code",
   "execution_count": 121,
   "metadata": {},
   "outputs": [],
   "source": [
    "def update_responsibility_numpy(r, s, a, lmb=0.5):\n",
    "    \"\"\"Numpy optimized responsibility matrix computation.\n",
    "    \n",
    "    Parameters:\n",
    "        r (np.ndarray) : responsibility matrix\n",
    "        s (np.ndarray) : similarity matrix\n",
    "        a (np.ndarray) : availability matrix\n",
    "        lmb (float)    : update damping factor\n",
    "    \n",
    "    Returns:\n",
    "        r (np.ndarray) : updated responsibility matrix\n",
    "    \"\"\"\n",
    "    n = len(s)\n",
    "    i = np.arange(n)\n",
    "    temp = np.add(a, s)\n",
    "    \n",
    "    # indices of two largest row vals\n",
    "    idx = np.argpartition(temp, -2)[:, [-1, -2]]\n",
    "    idx_1 = idx[:, 0]\n",
    "    idx_2 = idx[:, 1]\n",
    "    \n",
    "    # two largest row vals\n",
    "    max_1 = temp[i, idx_1]\n",
    "    max_2 = temp[i, idx_2]\n",
    "    \n",
    "    # compute responsibility\n",
    "    np.subtract(s, max_1[:, None], temp)\n",
    "    temp[i, idx_1] = s[i, idx_1] - max_2\n",
    "    \n",
    "    return r * lmb + (1-lmb) * temp"
   ]
  },
  {
   "cell_type": "code",
   "execution_count": 122,
   "metadata": {},
   "outputs": [
    {
     "name": "stdout",
     "output_type": "stream",
     "text": [
      "2.02 ms ± 355 µs per loop (mean ± std. dev. of 3 runs, 5 loops each)\n",
      "\n",
      "The slowest run took 1571.24 times longer than the fastest. This could mean that an intermediate result is being cached.\n",
      "97.8 ms ± 138 ms per loop (mean ± std. dev. of 3 runs, 5 loops each)\n",
      "\n",
      "69.6 µs ± 12.6 µs per loop (mean ± std. dev. of 3 runs, 5 loops each)\n"
     ]
    }
   ],
   "source": [
    "a = np.zeros((n, n))\n",
    "r = np.zeros_like(a)\n",
    "\n",
    "# naive implementation\n",
    "%timeit -r3 -n5 update_responsibility_naive(r, s, a)\n",
    "print()\n",
    "\n",
    "# numba implementation\n",
    "%timeit -r3 -n5 update_responsibility_numba(r, s, a)\n",
    "print()\n",
    "\n",
    "# numpy implementation\n",
    "%timeit -r3 -n5 update_responsibility_numpy(r, s, a)"
   ]
  },
  {
   "cell_type": "code",
   "execution_count": 87,
   "metadata": {},
   "outputs": [],
   "source": [
    "def update_availability_naive(r, a, lmb=0.5):\n",
    "    \"\"\"Naive availability matrix computation.\n",
    "    \n",
    "    Parameters:\n",
    "        r (np.ndarray) : responsibility matrix\n",
    "        a (np.ndarray) : availability matrix\n",
    "        lmb (float)    : update damping factor\n",
    "    \n",
    "    Returns:\n",
    "        a (np.ndarray) : updated availability matrix\n",
    "    \"\"\"\n",
    "    n = len(s)\n",
    "    for i in range(n):\n",
    "        for k in range(n):\n",
    "            if(i == k):\n",
    "                a_ik = np.sum(np.maximum(0,np.delete(r[:, k], k)))\n",
    "            else:\n",
    "                a_ik = np.minimum(0,r[k,k]+ np.sum(np.maximum(0,np.delete(r[:, k], (i,k)))))\n",
    "            a[i, k] = lmb * a[i, k] + (1 - lmb) * (a_ik)\n",
    "    return a"
   ]
  },
  {
   "cell_type": "code",
   "execution_count": 104,
   "metadata": {},
   "outputs": [],
   "source": [
    "@njit(parallel=True)\n",
    "def update_availability_numba(r, a, lmb=0.5):\n",
    "    \"\"\"Naive availability matrix computation.\n",
    "    \n",
    "    Parameters:\n",
    "        r (np.ndarray) : responsibility matrix\n",
    "        a (np.ndarray) : availability matrix\n",
    "        lmb (float)    : update damping factor\n",
    "    \n",
    "    Returns:\n",
    "        a (np.ndarray) : updated availability matrix\n",
    "    \"\"\"\n",
    "    n = len(s)\n",
    "    for i in prange(n):\n",
    "        for k in prange(n):\n",
    "            if(i == k):\n",
    "                a_ik = np.sum(np.maximum(0,np.delete(r[:, k], k)))\n",
    "            elif(i < k ):\n",
    "                vec= np.delete(r[:, k], k)\n",
    "                sum_vec = np.delete(vec,i)\n",
    "                a_ik = np.minimum(0,r[k,k]+ np.sum(np.maximum(0,sum_vec)))\n",
    "            else:\n",
    "                vec= np.delete(r[:, k], i)\n",
    "                sum_vec = np.delete(vec,k)\n",
    "                a_ik = np.minimum(0,r[k,k]+ np.sum(np.maximum(0,sum_vec)))\n",
    "            a[i, k] = lmb * a[i, k] + (1 - lmb) * (a_ik)\n",
    "    return a"
   ]
  },
  {
   "cell_type": "code",
   "execution_count": 106,
   "metadata": {},
   "outputs": [
    {
     "data": {
      "text/plain": [
       "array([[0., 0., 0., 0., 0., 0., 0., 0., 0., 0., 0., 0.],\n",
       "       [0., 0., 0., 0., 0., 0., 0., 0., 0., 0., 0., 0.],\n",
       "       [0., 0., 0., 0., 0., 0., 0., 0., 0., 0., 0., 0.],\n",
       "       [0., 0., 0., 0., 0., 0., 0., 0., 0., 0., 0., 0.],\n",
       "       [0., 0., 0., 0., 0., 0., 0., 0., 0., 0., 0., 0.],\n",
       "       [0., 0., 0., 0., 0., 0., 0., 0., 0., 0., 0., 0.],\n",
       "       [0., 0., 0., 0., 0., 0., 0., 0., 0., 0., 0., 0.],\n",
       "       [0., 0., 0., 0., 0., 0., 0., 0., 0., 0., 0., 0.],\n",
       "       [0., 0., 0., 0., 0., 0., 0., 0., 0., 0., 0., 0.],\n",
       "       [0., 0., 0., 0., 0., 0., 0., 0., 0., 0., 0., 0.],\n",
       "       [0., 0., 0., 0., 0., 0., 0., 0., 0., 0., 0., 0.],\n",
       "       [0., 0., 0., 0., 0., 0., 0., 0., 0., 0., 0., 0.]])"
      ]
     },
     "execution_count": 106,
     "metadata": {},
     "output_type": "execute_result"
    }
   ],
   "source": [
    "a = np.zeros((n, n))\n",
    "r = np.zeros_like(a)\n",
    "\n",
    "update_availability_numba(r, a)"
   ]
  },
  {
   "cell_type": "code",
   "execution_count": 126,
   "metadata": {},
   "outputs": [
    {
     "name": "stdout",
     "output_type": "stream",
     "text": [
      "[[ 1.21402808 -1.41176403 -1.75760023 -1.21402808 -2.19403692 -2.22940995\n",
      "  -2.3818425  -1.75530925 -4.57049286 -4.55097774 -4.24848175 -4.56222267]\n",
      " [-1.41176403  1.20817245 -1.77950228 -1.20817245 -2.23993085 -1.91480096\n",
      "  -2.34239806 -1.59591031 -4.164415   -4.16559912 -3.84616593 -4.15418151]\n",
      " [-1.75760023 -1.77950228  1.69415994 -1.69415994 -2.93370596 -2.65860574\n",
      "  -3.08674045 -2.36660031 -4.60301273 -4.71808073 -4.32170663 -4.57243509]\n",
      " [-1.21402808 -1.20817245 -1.69415994  1.20817245 -2.24634646 -2.09195009\n",
      "  -2.39276735 -1.69019803 -4.37235164 -4.37139245 -4.05433715 -4.3616831 ]\n",
      " [-2.19403692 -2.23993085 -2.93370596 -2.24634646  1.30465999 -2.08395403\n",
      "  -1.30465999 -1.71843466 -4.514493   -4.27875374 -4.16028544 -4.5421242 ]\n",
      " [-2.22940995 -1.91480096 -2.65860574 -2.09195009 -2.08395403  1.56412325\n",
      "  -1.95488611 -1.56412325 -3.50478789 -3.37750674 -3.15848292 -3.51913386]\n",
      " [-2.3818425  -2.34239806 -3.08674045 -2.39276735 -1.30465999 -1.95488611\n",
      "   1.30465999 -1.7583826  -4.2852948  -4.01683906 -3.92998159 -4.31906601]\n",
      " [-1.75530925 -1.59591031 -2.36660031 -1.69019803 -1.71843466 -1.56412325\n",
      "  -1.7583826   1.56412325 -4.0596344  -3.94079518 -3.71640599 -4.06966307]\n",
      " [-4.57049286 -4.164415   -4.60301273 -4.37235164 -4.514493   -3.50478789\n",
      "  -4.2852948  -4.0596344   1.10716198 -1.64879905 -1.35537672 -1.10716198]\n",
      " [-4.55097774 -4.16559912 -4.71808073 -4.37139245 -4.27875374 -3.37750674\n",
      "  -4.01683906 -3.94079518 -1.64879905  1.55818882 -1.55818882 -1.75387248]\n",
      " [-4.24848175 -3.84616593 -4.32170663 -4.05433715 -4.16028544 -3.15848292\n",
      "  -3.92998159 -3.71640599 -1.35537672 -1.55818882  1.35537672 -1.40243483]\n",
      " [-4.56222267 -4.15418151 -4.57243509 -4.3616831  -4.5421242  -3.51913386\n",
      "  -4.31906601 -4.06966307 -1.10716198 -1.75387248 -1.40243483  1.10716198]]\n",
      "[[ 1.21402808 -1.41176403 -1.75760023 -1.21402808 -2.19403692 -2.22940995\n",
      "  -2.3818425  -1.75530925 -4.57049286 -4.55097774 -4.24848175 -4.56222267]\n",
      " [-1.41176403  1.20817245 -1.77950228 -1.20817245 -2.23993085 -1.91480096\n",
      "  -2.34239806 -1.59591031 -4.164415   -4.16559912 -3.84616593 -4.15418151]\n",
      " [-1.75760023 -1.77950228  1.69415994 -1.69415994 -2.93370596 -2.65860574\n",
      "  -3.08674045 -2.36660031 -4.60301273 -4.71808073 -4.32170663 -4.57243509]\n",
      " [-1.21402808 -1.20817245 -1.69415994  1.20817245 -2.24634646 -2.09195009\n",
      "  -2.39276735 -1.69019803 -4.37235164 -4.37139245 -4.05433715 -4.3616831 ]\n",
      " [-2.19403692 -2.23993085 -2.93370596 -2.24634646  1.30465999 -2.08395403\n",
      "  -1.30465999 -1.71843466 -4.514493   -4.27875374 -4.16028544 -4.5421242 ]\n",
      " [-2.22940995 -1.91480096 -2.65860574 -2.09195009 -2.08395403  1.56412325\n",
      "  -1.95488611 -1.56412325 -3.50478789 -3.37750674 -3.15848292 -3.51913386]\n",
      " [-2.3818425  -2.34239806 -3.08674045 -2.39276735 -1.30465999 -1.95488611\n",
      "   1.30465999 -1.7583826  -4.2852948  -4.01683906 -3.92998159 -4.31906601]\n",
      " [-1.75530925 -1.59591031 -2.36660031 -1.69019803 -1.71843466 -1.56412325\n",
      "  -1.7583826   1.56412325 -4.0596344  -3.94079518 -3.71640599 -4.06966307]\n",
      " [-4.57049286 -4.164415   -4.60301273 -4.37235164 -4.514493   -3.50478789\n",
      "  -4.2852948  -4.0596344   1.10716198 -1.64879905 -1.35537672 -1.10716198]\n",
      " [-4.55097774 -4.16559912 -4.71808073 -4.37139245 -4.27875374 -3.37750674\n",
      "  -4.01683906 -3.94079518 -1.64879905  1.55818882 -1.55818882 -1.75387248]\n",
      " [-4.24848175 -3.84616593 -4.32170663 -4.05433715 -4.16028544 -3.15848292\n",
      "  -3.92998159 -3.71640599 -1.35537672 -1.55818882  1.35537672 -1.40243483]\n",
      " [-4.56222267 -4.15418151 -4.57243509 -4.3616831  -4.5421242  -3.51913386\n",
      "  -4.31906601 -4.06966307 -1.10716198 -1.75387248 -1.40243483  1.10716198]]\n"
     ]
    },
    {
     "data": {
      "text/plain": [
       "array([[ 1.21402808, -1.41176403, -1.75760023, -1.21402808, -2.19403692,\n",
       "        -2.22940995, -2.3818425 , -1.75530925, -4.57049286, -4.55097774,\n",
       "        -4.24848175, -4.56222267],\n",
       "       [-1.41176403,  1.20817245, -1.77950228, -1.20817245, -2.23993085,\n",
       "        -1.91480096, -2.34239806, -1.59591031, -4.164415  , -4.16559912,\n",
       "        -3.84616593, -4.15418151],\n",
       "       [-1.75760023, -1.77950228,  1.69415994, -1.69415994, -2.93370596,\n",
       "        -2.65860574, -3.08674045, -2.36660031, -4.60301273, -4.71808073,\n",
       "        -4.32170663, -4.57243509],\n",
       "       [-1.21402808, -1.20817245, -1.69415994,  1.20817245, -2.24634646,\n",
       "        -2.09195009, -2.39276735, -1.69019803, -4.37235164, -4.37139245,\n",
       "        -4.05433715, -4.3616831 ],\n",
       "       [-2.19403692, -2.23993085, -2.93370596, -2.24634646,  1.30465999,\n",
       "        -2.08395403, -1.30465999, -1.71843466, -4.514493  , -4.27875374,\n",
       "        -4.16028544, -4.5421242 ],\n",
       "       [-2.22940995, -1.91480096, -2.65860574, -2.09195009, -2.08395403,\n",
       "         1.56412325, -1.95488611, -1.56412325, -3.50478789, -3.37750674,\n",
       "        -3.15848292, -3.51913386],\n",
       "       [-2.3818425 , -2.34239806, -3.08674045, -2.39276735, -1.30465999,\n",
       "        -1.95488611,  1.30465999, -1.7583826 , -4.2852948 , -4.01683906,\n",
       "        -3.92998159, -4.31906601],\n",
       "       [-1.75530925, -1.59591031, -2.36660031, -1.69019803, -1.71843466,\n",
       "        -1.56412325, -1.7583826 ,  1.56412325, -4.0596344 , -3.94079518,\n",
       "        -3.71640599, -4.06966307],\n",
       "       [-4.57049286, -4.164415  , -4.60301273, -4.37235164, -4.514493  ,\n",
       "        -3.50478789, -4.2852948 , -4.0596344 ,  1.10716198, -1.64879905,\n",
       "        -1.35537672, -1.10716198],\n",
       "       [-4.55097774, -4.16559912, -4.71808073, -4.37139245, -4.27875374,\n",
       "        -3.37750674, -4.01683906, -3.94079518, -1.64879905,  1.55818882,\n",
       "        -1.55818882, -1.75387248],\n",
       "       [-4.24848175, -3.84616593, -4.32170663, -4.05433715, -4.16028544,\n",
       "        -3.15848292, -3.92998159, -3.71640599, -1.35537672, -1.55818882,\n",
       "         1.35537672, -1.40243483],\n",
       "       [-4.56222267, -4.15418151, -4.57243509, -4.3616831 , -4.5421242 ,\n",
       "        -3.51913386, -4.31906601, -4.06966307, -1.10716198, -1.75387248,\n",
       "        -1.40243483,  1.10716198]])"
      ]
     },
     "execution_count": 126,
     "metadata": {},
     "output_type": "execute_result"
    }
   ],
   "source": [
    "print(update_responsibility_naive(r, s, a))\n",
    "print(update_responsibility_numba(r, s, a))\n",
    "update_responsibility_numpy(r, s, a)"
   ]
  },
  {
   "cell_type": "code",
   "execution_count": 113,
   "metadata": {},
   "outputs": [
    {
     "name": "stdout",
     "output_type": "stream",
     "text": [
      "3.21 ms ± 372 µs per loop (mean ± std. dev. of 3 runs, 5 loops each)\n",
      "\n",
      "175 µs ± 11.2 µs per loop (mean ± std. dev. of 3 runs, 5 loops each)\n",
      "\n"
     ]
    }
   ],
   "source": [
    "a = np.zeros((n, n))\n",
    "r = np.zeros_like(a)\n",
    "\n",
    "# naive implementation\n",
    "%timeit -r3 -n5 update_availability_naive(r, a)\n",
    "print()\n",
    "\n",
    "# numba implementation\n",
    "%timeit -r3 -n5 update_availability_numba(r, a)\n",
    "print()\n"
   ]
  }
 ],
 "metadata": {
  "kernelspec": {
   "display_name": "Python 3",
   "language": "python",
   "name": "python3"
  },
  "language_info": {
   "codemirror_mode": {
    "name": "ipython",
    "version": 3
   },
   "file_extension": ".py",
   "mimetype": "text/x-python",
   "name": "python",
   "nbconvert_exporter": "python",
   "pygments_lexer": "ipython3",
   "version": "3.8.5"
  }
 },
 "nbformat": 4,
 "nbformat_minor": 1
}

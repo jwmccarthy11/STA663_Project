{
 "cells": [
  {
   "cell_type": "markdown",
   "metadata": {},
   "source": [
    "##### Overview\n",
    "- Clustering algorithm\n",
    "- Each data point is node in network\n",
    "- Messages sent between nodes\n",
    "- Data points have \"affinity\" for neighbors as \"exemplars\" (similar to cluster centroids)\n",
    "- Exemplars are iteratively chosen through message-passing procedure between data points\n",
    "\n",
    "##### Input\n",
    "- Input is similarity $s(i, k)$ for points $i$ and $k$...\n",
    "    - i.e. $s(i, k) = -\\Vert x_i - x_k \\Vert^2$\n",
    "    \n",
    "- ...and \"preferences\" $s(k, k)$\n",
    "    - Diagonal elements of $s$-matrix\n",
    "    - Larger $s(k, k) \\rightarrow$ more likely to be chosen as exemplar\n",
    "    - Under equal prior preference for all points, scale of shared value determines # of clusters\n",
    "    \n",
    "##### Algorithm Setup\n",
    "- Two types of messages are passed\n",
    "    1. \"Responsibility\" $r(i, k)$ from $i$ to $k$\n",
    "        - \"...accumulated evidence for how well-suited point $k$ is to serve as the exemplar for point $i$...\"\n",
    "        - Accounts for other potential exemplars for $i$\n",
    "    2. \"Availability\" $a(i, k)$ from $k$ to $i$\n",
    "        - \"...accumulated evidence for how appropriate it would be for point $i$ to choose point $k$ as its exemplar...\"\n",
    "        - Accounts for support from other points that point $k$ should be an exemplar\n",
    "        - Initialize $a(i, k) = 0$\n",
    "        \n",
    "##### Algorithm Steps\n",
    "- At each step...\n",
    "    1. Update responsibility \n",
    "    $$r(i, k) \\leftarrow s(i, k) - \\underset{k' \\text{s.t.} k' \\neq k}{\\max} \\left\\{ a(i, k') + s(i, k') \\right\\}$$\n",
    "    2. Update availability for $i \\neq k$:\n",
    "    $$a(i, k) \\leftarrow \\min \\left\\{ 0, r(k, k) + \\hspace{-15px} \\sum\\limits_{i' \\text{s.t.} i' \\not\\in \\{i, k\\}} \\hspace{-10px} \\max \\{0, r(i', k)\\} \\right\\}$$\n",
    "    \n",
    "    3. Update self-availability:\n",
    "    $$a(i, k) \\leftarrow \\hspace{-15px} \\sum\\limits_{i' \\text{s.t.} i' \\neq k} \\hspace{-10px} \\max \\{0, r(i', k)\\}$$   \n",
    "    \n",
    "- Algorithm may terminate after...\n",
    "    - Fixed iterations\n",
    "    - Changes in messages fall below threshold\n",
    "    - Local decisions stay constant for a number of iterations\n",
    "\n",
    "- For point $i$, the value of $k$ that maximizes $a(i, k) + r(i, k)$ either...\n",
    "    - If $i=k$, identifies $i$ as an exemplar\n",
    "    - If $i \\neq k$, identifies $k$ as the exemplar for point $i$"
   ]
  },
  {
   "cell_type": "code",
   "execution_count": null,
   "metadata": {},
   "outputs": [],
   "source": []
  }
 ],
 "metadata": {
  "kernelspec": {
   "display_name": "Python 3",
   "language": "python",
   "name": "python3"
  },
  "language_info": {
   "codemirror_mode": {
    "name": "ipython",
    "version": 3
   },
   "file_extension": ".py",
   "mimetype": "text/x-python",
   "name": "python",
   "nbconvert_exporter": "python",
   "pygments_lexer": "ipython3",
   "version": "3.8.7"
  }
 },
 "nbformat": 4,
 "nbformat_minor": 1
}